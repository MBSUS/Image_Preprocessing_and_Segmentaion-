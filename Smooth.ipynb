{
 "cells": [
  {
   "cell_type": "code",
   "execution_count": 13,
   "metadata": {},
   "outputs": [],
   "source": [
    "import cv2\n",
    "import numpy as np"
   ]
  },
  {
   "cell_type": "code",
   "execution_count": 7,
   "metadata": {},
   "outputs": [],
   "source": [
    "video = cv2.VideoCapture('002_RI_full.mp4')\n",
    "\n",
    "# size = (int(video.get(cv2.CAP_PROP_FRAME_WIDTH)), int(video.get(cv2.CAP_PROP_FRAME_HEIGHT))\n",
    "fps = video.get(cv2.CAP_PROP_FPS)\n",
    "delay=int(1000/fps)\n",
    "\n",
    "depth=0\n",
    "thr=0.9\n",
    "\n",
    "success, frame = video.read()\n",
    "rest=[]\n",
    "\n",
    "while success:\n",
    "    success,frame = video.read()\n",
    "    \n",
    "    if success:\n",
    "        rest.append(frame.copy())\n",
    "        cv2.imshow(\"s\",frame)\n",
    "        cv2.waitKey(delay)\n",
    "    \n",
    "    \n",
    "cv2.destroyAllWindows()\n",
    "video.release()\n",
    "# cv2.imshow(\"s\",img)\n",
    "# cv2.waitKey(0)\n",
    "\n",
    "# ####get the template\n",
    "# trackwindow=frame[top_left[1]:top_left[1]+h[i],top_left[0]:top_left[0]+w[i],0].copy()\n",
    "# cv2.imshow(\"s\",trackwindow)\n",
    "# cv2.waitKey(0)\n",
    "\n",
    "# cv2.destroyAllWindows()\n",
    "# video.release()"
   ]
  },
  {
   "cell_type": "code",
   "execution_count": 25,
   "metadata": {},
   "outputs": [],
   "source": [
    "video = cv2.VideoCapture('010_RI_full.mp4')\n",
    "\n",
    "# size = (int(video.get(cv2.CAP_PROP_FRAME_WIDTH)), int(video.get(cv2.CAP_PROP_FRAME_HEIGHT))\n",
    "fps = video.get(cv2.CAP_PROP_FPS)\n",
    "delay=int(1000/fps)\n",
    "\n",
    "depth=0\n",
    "thr=0.9\n",
    "\n",
    "success, frame = video.read()\n",
    "\n",
    "while success:\n",
    "    success,frame = video.read()\n",
    "\n",
    "    if success:\n",
    "        img = cv2.blur(frame, (5,5))\n",
    "        img = cv2.GaussianBlur(img,(25,25),0)\n",
    "        img = cv2.medianBlur(img, 5)\n",
    "        \n",
    "        img = np.concatenate((frame, img),axis=1)\n",
    "        img = cv2.resize(img,None,fx=0.8,fy=0.8)\n",
    "        cv2.imshow(\"s\",img)\n",
    "        if cv2.waitKey(delay) == 27:\n",
    "            break\n",
    "    \n",
    "cv2.destroyAllWindows()\n",
    "video.release()"
   ]
  },
  {
   "cell_type": "code",
   "execution_count": 6,
   "metadata": {},
   "outputs": [
    {
     "data": {
      "text/plain": [
       "324"
      ]
     },
     "execution_count": 6,
     "metadata": {},
     "output_type": "execute_result"
    }
   ],
   "source": [
    "len((rest))"
   ]
  },
  {
   "cell_type": "code",
   "execution_count": 11,
   "metadata": {},
   "outputs": [],
   "source": [
    "cv2.destroyAllWindows()\n",
    "video.release()"
   ]
  },
  {
   "cell_type": "code",
   "execution_count": 8,
   "metadata": {},
   "outputs": [
    {
     "ename": "SyntaxError",
     "evalue": "unexpected EOF while parsing (<ipython-input-8-bd006b1adb9a>, line 10)",
     "output_type": "error",
     "traceback": [
      "\u001b[1;36m  File \u001b[1;32m\"<ipython-input-8-bd006b1adb9a>\"\u001b[1;36m, line \u001b[1;32m10\u001b[0m\n\u001b[1;33m    img_bilater = cv2.bilateralFilter(img,9,75,75\u001b[0m\n\u001b[1;37m                                                 ^\u001b[0m\n\u001b[1;31mSyntaxError\u001b[0m\u001b[1;31m:\u001b[0m unexpected EOF while parsing\n"
     ]
    }
   ],
   "source": [
    "img_mean = cv2.blur(img, (5,5))\n",
    "\n",
    "# 高斯滤波\n",
    "img_Guassian = cv2.GaussianBlur(img,(5,5),0)\n",
    "\n",
    "# 中值滤波\n",
    "img_median = cv2.medianBlur(img, 25)\n",
    "\n",
    "# 双边滤波\n",
    "img_bilater = cv2.bilateralFilter(img,9,75,75)"
   ]
  },
  {
   "cell_type": "code",
   "execution_count": 9,
   "metadata": {},
   "outputs": [],
   "source": [
    "def get_fimgs(img):\n",
    "    return cv2.blur(img, (5,5)),cv2.GaussianBlur(img,(5,5),0),cv2.medianBlur(img, 5),cv2.bilateralFilter(img,9,75,75)"
   ]
  },
  {
   "cell_type": "code",
   "execution_count": null,
   "metadata": {},
   "outputs": [],
   "source": []
  }
 ],
 "metadata": {
  "kernelspec": {
   "display_name": "Python 3",
   "language": "python",
   "name": "python3"
  },
  "language_info": {
   "codemirror_mode": {
    "name": "ipython",
    "version": 3
   },
   "file_extension": ".py",
   "mimetype": "text/x-python",
   "name": "python",
   "nbconvert_exporter": "python",
   "pygments_lexer": "ipython3",
   "version": "3.7.3"
  }
 },
 "nbformat": 4,
 "nbformat_minor": 2
}
