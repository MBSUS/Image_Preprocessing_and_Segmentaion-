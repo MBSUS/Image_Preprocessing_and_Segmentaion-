{
 "cells": [
  {
   "cell_type": "code",
   "execution_count": null,
   "metadata": {},
   "outputs": [],
   "source": [
    "import json\n",
    "import numpy as np\n",
    "import os\n",
    "import time\n",
    "import cv2"
   ]
  },
  {
   "cell_type": "code",
   "execution_count": null,
   "metadata": {},
   "outputs": [],
   "source": [
    "def load_video_as_frames(filename):\n",
    "    frames=[]\n",
    "    \n",
    "    video = cv2.VideoCapture(filename)\n",
    "    size = (int(video.get(cv2.CAP_PROP_FRAME_WIDTH)), int(video.get(cv2.CAP_PROP_FRAME_HEIGHT)))\n",
    "    fps = video.get(cv2.CAP_PROP_FPS)\n",
    "    \n",
    "    index = 1\n",
    "    thr = 90\n",
    "    num_section = 10\n",
    "    len_section = np.floor(size[0]/ num_section).astype(int)\n",
    "    success = True\n",
    "\n",
    "    while success:\n",
    "        \n",
    "        success, frame = video.read()\n",
    "        if not success:\n",
    "            break\n",
    "        index += 1\n",
    "        frames.append(frame[:, :, 0])\n",
    "\n",
    "    video.release()\n",
    "    cv2.destroyAllWindows()\n",
    "    \n",
    "    return frames,fps,size\n",
    "    \n",
    "    "
   ]
  },
  {
   "cell_type": "code",
   "execution_count": null,
   "metadata": {},
   "outputs": [],
   "source": [
    "filename=\"010_RI_full.mp4\""
   ]
  },
  {
   "cell_type": "code",
   "execution_count": null,
   "metadata": {},
   "outputs": [],
   "source": [
    "frames,fps,size = load_video_as_frames(filename)"
   ]
  },
  {
   "cell_type": "code",
   "execution_count": null,
   "metadata": {},
   "outputs": [],
   "source": [
    "def show_frames(video,fps=30):\n",
    "    delay = int(1000 / fps)\n",
    "    for img in video:\n",
    "        cv2.imshow(\"new video\", img)\n",
    "        if cv2.waitKey(delay) == 27:\n",
    "            break\n",
    "    cv2.destroyAllWindows()\n",
    "    return True"
   ]
  },
  {
   "cell_type": "code",
   "execution_count": null,
   "metadata": {},
   "outputs": [],
   "source": [
    "show_frames(frames,fps)"
   ]
  },
  {
   "cell_type": "code",
   "execution_count": null,
   "metadata": {},
   "outputs": [],
   "source": [
    "def empiric_confidence(x):\n",
    "    # x,column_id\n",
    "    confidence_list=[0.7,0.9,1,1,1,1,1,1,0.9,0.7]\n",
    "    return confidence_list[x]"
   ]
  },
  {
   "cell_type": "code",
   "execution_count": null,
   "metadata": {},
   "outputs": [],
   "source": [
    "\n",
    "def init_points(video,size=None,num_section=10,thr=90):\n",
    "    \n",
    "    if not size:\n",
    "        size=[video[0].shape[1],video[0].shape[0]]\n",
    "    \n",
    "    len_section = np.floor(size[0]/ num_section).astype(int)\n",
    "    \n",
    "    points_video = []\n",
    "    \n",
    "    for frame_id in range(len(video)):\n",
    "        wst, frame = cv2.threshold(video[frame_id], thr, 255, 0)\n",
    "        points_frame = []\n",
    "        for section_id in range(num_section):\n",
    "            tmp=frame[:,section_id*len_section:(section_id+1)*len_section]\n",
    "            total = sum([sum(i) for i in tmp])\n",
    "            count=0\n",
    "            for idx,lice in enumerate(tmp):\n",
    "                count+=sum(lice)\n",
    "                if count>=total/2:\n",
    "                    if True:\n",
    "                        points_frame.append([(section_id+0.5)*len_section,idx,empiric_confidence(section_id),frame_id])\n",
    "                    break\n",
    "        points_video.append(points_frame.copy())\n",
    "        \n",
    "    return points_video"
   ]
  },
  {
   "cell_type": "code",
   "execution_count": null,
   "metadata": {},
   "outputs": [],
   "source": [
    "points_video = init_points(frames)"
   ]
  },
  {
   "cell_type": "code",
   "execution_count": null,
   "metadata": {},
   "outputs": [],
   "source": [
    "def put_points(video,points_video,fps):\n",
    "    \n",
    "    delay = int(1000 / fps)\n",
    "    imgs=[cv2.cvtColor(img,cv2.COLOR_GRAY2BGR) for img in video]\n",
    "    \n",
    "    for img_id in range(len(imgs)):\n",
    "        for x in range(10):\n",
    "            cv2.putText(imgs[img_id], 'o', (int(points_video[img_id][x][0]),int(points_video[img_id][x][1])), cv2.FONT_HERSHEY_SIMPLEX, 1, (0,255,0), 1)\n",
    "    \n",
    "    return imgs\n",
    "    "
   ]
  },
  {
   "cell_type": "code",
   "execution_count": null,
   "metadata": {},
   "outputs": [],
   "source": [
    "def put_points(video,points_video,fps):\n",
    "    \n",
    "    delay = int(1000 / fps)\n",
    "    imgs=[cv2.cvtColor(img,cv2.COLOR_GRAY2BGR) for img in video]\n",
    "    \n",
    "    for img_id in range(len(imgs)):\n",
    "        for x in range(10):\n",
    "            cv2.putText(imgs[img_id], 'o', (int(points_video[img_id][x][0]),int(points_video[img_id][x][1])), cv2.FONT_HERSHEY_SIMPLEX, 1, (0,255,0), 1)\n",
    "            if 0<img_id<len(imgs)-1:\n",
    "                if x in [0,1]:\n",
    "                    cv2.putText(imgs[img_id], 'o', (int(points_video[img_id][x][0]),int(points_video[img_id+1][x+2][1])), cv2.FONT_HERSHEY_SIMPLEX, 1, (0,0,255), 1)\n",
    "                if x in [8,9]:\n",
    "                    cv2.putText(imgs[img_id], 'o', (int(points_video[img_id][x][0]),int(points_video[img_id-1][x-2][1])), cv2.FONT_HERSHEY_SIMPLEX, 1, (0,0,255), 1)\n",
    "    return imgs"
   ]
  },
  {
   "cell_type": "code",
   "execution_count": null,
   "metadata": {},
   "outputs": [],
   "source": [
    "raw_eval=put_points(frames,points_video,fps)"
   ]
  },
  {
   "cell_type": "code",
   "execution_count": null,
   "metadata": {},
   "outputs": [],
   "source": [
    "show_frames(raw_eval,fps)"
   ]
  },
  {
   "cell_type": "code",
   "execution_count": null,
   "metadata": {},
   "outputs": [],
   "source": [
    "size"
   ]
  },
  {
   "cell_type": "code",
   "execution_count": null,
   "metadata": {},
   "outputs": [],
   "source": [
    "def save_video(filename,frames,fps,size):\n",
    "    \n",
    "    videoWriter = cv2.VideoWriter(filename, cv2.VideoWriter_fourcc(*'MP4V'), fps, size)\n",
    "    \n",
    "    for frame in frames:\n",
    "        videoWriter.write(frame)\n",
    "        \n",
    "    videoWriter.release()"
   ]
  },
  {
   "cell_type": "code",
   "execution_count": null,
   "metadata": {},
   "outputs": [],
   "source": [
    "save_video(\"show.mp4\",raw_eval,fps,size)"
   ]
  },
  {
   "cell_type": "code",
   "execution_count": null,
   "metadata": {},
   "outputs": [],
   "source": [
    "def load_templates(filepath=\"template/LAS/ribs/\"):\n",
    "    templates = []\n",
    "    \n",
    "    for filename in os.listdir(filepath):\n",
    "        org = cv2.imread(filepath+filename,0)\n",
    "        templates.append(org.copy())\n",
    "        \n",
    "    return templates"
   ]
  },
  {
   "cell_type": "code",
   "execution_count": null,
   "metadata": {},
   "outputs": [],
   "source": [
    "templates = load_templates(\"template/LAS/ribs/\")"
   ]
  },
  {
   "cell_type": "code",
   "execution_count": null,
   "metadata": {},
   "outputs": [],
   "source": [
    "len(templates)"
   ]
  },
  {
   "cell_type": "code",
   "execution_count": null,
   "metadata": {},
   "outputs": [],
   "source": [
    "def template_matching(img,templates,thr=0.8):\n",
    "    \n",
    "    h,w = [template.shape[0] for template in templates], [template.shape[1] for template in templates]\n",
    "    \n",
    "    res_list=[]\n",
    "\n",
    "    VL=[]\n",
    "    for i in range(len(templates)):\n",
    "        res = cv2.matchTemplate(img, templates[i], cv2.TM_CCOEFF_NORMED)\n",
    "        min_val, max_val, min_loc, max_loc = cv2.minMaxLoc(res)\n",
    "        VL.append([max_val,max_loc,i])\n",
    "    VL.sort(key=lambda x:-x[0])\n",
    "\n",
    "    for i in range(3):\n",
    "        if VL[i][0]>thr:\n",
    "            top_left = VL[i][1]\n",
    "            bottom_right = (top_left[0] + w[VL[i][2]], top_left[1] + h[VL[i][2]])\n",
    "            res_list.append([top_left,bottom_right,VL[i][2],VL[i][0]])\n",
    "    \n",
    "    return  res_list      #[coordinates(top_left,bottom_right),template_id,NCC_value(=confidence_value)]"
   ]
  },
  {
   "cell_type": "code",
   "execution_count": null,
   "metadata": {},
   "outputs": [],
   "source": [
    "ribs_info = template_matching(frames[70],templates)"
   ]
  },
  {
   "cell_type": "code",
   "execution_count": null,
   "metadata": {},
   "outputs": [],
   "source": [
    "ribs_info"
   ]
  },
  {
   "cell_type": "code",
   "execution_count": null,
   "metadata": {},
   "outputs": [],
   "source": [
    "a,b,c,d=ribs_info[0]"
   ]
  },
  {
   "cell_type": "code",
   "execution_count": null,
   "metadata": {},
   "outputs": [],
   "source": [
    "def draw_templates(frame,info,thr=0):\n",
    "    img=frame.copy()\n",
    "    for temp in info:\n",
    "        top_left,bottom_right,temp_id,confidence,frame_id=temp\n",
    "        if confidence>thr:\n",
    "            cv2.rectangle(img, top_left, bottom_right, 255, 1)\n",
    "            cv2.putText(img,\"template:\"+str(temp_id)+\"  Confidence:\"+str(confidence),(top_left[0],top_left[1]), cv2.FONT_HERSHEY_SIMPLEX, 1, 255, 1)\n",
    "    return img\n",
    "    "
   ]
  },
  {
   "cell_type": "code",
   "execution_count": null,
   "metadata": {},
   "outputs": [],
   "source": [
    "img = draw_templates(frames[70],ribs_info)"
   ]
  },
  {
   "cell_type": "code",
   "execution_count": null,
   "metadata": {},
   "outputs": [],
   "source": [
    "cv2.imshow(\"t\",img)\n",
    "cv2.waitKey(0)\n",
    "cv2.destroyAllWindows()"
   ]
  },
  {
   "cell_type": "code",
   "execution_count": null,
   "metadata": {},
   "outputs": [],
   "source": [
    "def get_video_info(video,templates):\n",
    "    video_info=[]\n",
    "    \n",
    "    for i in range(len(video)):\n",
    "        frame_infos = template_matching(video[i],templates)\n",
    "        L=[]\n",
    "        if frame_infos:\n",
    "            for frame_info in frame_infos:\n",
    "                top_left,bottom_right,temp_id,confidence=frame_info\n",
    "                L.append([top_left,bottom_right,temp_id,confidence,i])\n",
    "        if L:\n",
    "            video_info.append(L.copy())\n",
    "    return video_info"
   ]
  },
  {
   "cell_type": "code",
   "execution_count": null,
   "metadata": {},
   "outputs": [],
   "source": [
    "video_info = get_video_info(frames,templates)"
   ]
  },
  {
   "cell_type": "markdown",
   "metadata": {},
   "source": [
    "# Ribs position analysis"
   ]
  },
  {
   "cell_type": "code",
   "execution_count": null,
   "metadata": {},
   "outputs": [],
   "source": [
    "#compute centroids\n",
    "video_info_cen=[]\n",
    "for frame_info in video_info:\n",
    "    for piece in frame_info:\n",
    "        top_left,bottom_right,temp_id,confidence,frame_id=piece\n",
    "        centroid=[np.mean([top_left[i],bottom_right[i]]).astype(int) for i in range(len(top_left))]\n",
    "        video_info_cen.append([centroid,temp_id,confidence,frame_id])\n",
    "        "
   ]
  },
  {
   "cell_type": "code",
   "execution_count": null,
   "metadata": {},
   "outputs": [],
   "source": [
    "y_info=[i[0][1] for i in video_info_cen]\n",
    "y_median = np.median(y_info).astype(int)\n",
    "y_mean = np.mean(y_info).astype(int)"
   ]
  },
  {
   "cell_type": "code",
   "execution_count": null,
   "metadata": {},
   "outputs": [],
   "source": [
    "#compute centroids\n",
    "Bottom=[]\n",
    "for frame_info in video_info:\n",
    "    for piece in frame_info:\n",
    "        top_left,bottom_right,temp_id,confidence,frame_id=piece\n",
    "        Bottom.append(bottom_right)"
   ]
  },
  {
   "cell_type": "code",
   "execution_count": null,
   "metadata": {},
   "outputs": [],
   "source": [
    "y_info=[i[1] for i in Bottom]\n",
    "y_median = np.median(y_info).astype(int)\n",
    "y_mean = np.mean(y_info).astype(int)"
   ]
  },
  {
   "cell_type": "code",
   "execution_count": null,
   "metadata": {},
   "outputs": [],
   "source": [
    "def median_bottom(info):\n",
    "    Bottom=[]\n",
    "    for frame_info in info:\n",
    "        for piece in frame_info:\n",
    "            top_left,bottom_right,temp_id,confidence,frame_id=piece\n",
    "            Bottom.append(bottom_right)\n",
    "    y_info=[i[1] for i in Bottom]\n",
    "    y_median = np.median(y_info).astype(int)\n",
    "    return y_median"
   ]
  },
  {
   "cell_type": "code",
   "execution_count": null,
   "metadata": {},
   "outputs": [],
   "source": [
    "median_bottom(video_info)"
   ]
  },
  {
   "cell_type": "code",
   "execution_count": null,
   "metadata": {},
   "outputs": [],
   "source": [
    "print(y_mean,y_median)"
   ]
  },
  {
   "cell_type": "code",
   "execution_count": null,
   "metadata": {},
   "outputs": [],
   "source": []
  },
  {
   "cell_type": "code",
   "execution_count": null,
   "metadata": {},
   "outputs": [],
   "source": [
    "test_imgs = put_points(frames,points_video,fps)"
   ]
  },
  {
   "cell_type": "code",
   "execution_count": null,
   "metadata": {},
   "outputs": [],
   "source": [
    "show_frames(test_imgs,fps)"
   ]
  },
  {
   "cell_type": "code",
   "execution_count": null,
   "metadata": {},
   "outputs": [],
   "source": [
    "save_video(\"test_imgs.mp4\",test_imgs,fps,size)"
   ]
  },
  {
   "cell_type": "code",
   "execution_count": null,
   "metadata": {},
   "outputs": [],
   "source": [
    "np.median([1,2,3,4,5,62,23,12,3]).astype(int)"
   ]
  },
  {
   "cell_type": "code",
   "execution_count": null,
   "metadata": {},
   "outputs": [],
   "source": [
    "fps"
   ]
  },
  {
   "cell_type": "code",
   "execution_count": null,
   "metadata": {},
   "outputs": [],
   "source": [
    "cv2.destroyAllWindows()"
   ]
  },
  {
   "cell_type": "code",
   "execution_count": null,
   "metadata": {},
   "outputs": [],
   "source": [
    "cv2.line(img, (0,d),(size[0],d),(0, 255, 255))"
   ]
  },
  {
   "cell_type": "code",
   "execution_count": null,
   "metadata": {},
   "outputs": [],
   "source": [
    "put_points(frames,points_video,fps)"
   ]
  },
  {
   "cell_type": "code",
   "execution_count": null,
   "metadata": {},
   "outputs": [],
   "source": [
    "cv2.imshow(\"s\",frames[0])\n",
    "cv2.waitKey(0)\n",
    "cv2.destroyAllWindows()"
   ]
  },
  {
   "cell_type": "code",
   "execution_count": null,
   "metadata": {},
   "outputs": [],
   "source": [
    "templates = load_templates()"
   ]
  },
  {
   "cell_type": "code",
   "execution_count": null,
   "metadata": {},
   "outputs": [],
   "source": [
    "video_path = \"LAS/002_RI_full.mp4\"\n",
    "\n",
    "frames,fps,size = load_video_as_frames(video_path)\n",
    "\n",
    "points_video = init_points(frames)"
   ]
  },
  {
   "cell_type": "code",
   "execution_count": null,
   "metadata": {},
   "outputs": [],
   "source": [
    "video_info = get_video_info(frames,templates)\n",
    "video_info"
   ]
  },
  {
   "cell_type": "code",
   "execution_count": null,
   "metadata": {},
   "outputs": [],
   "source": [
    "video_info_thr = [[temp for temp in frame_info if temp[3]>0.9] for frame_info in video_info if [temp for temp in frame_info if temp[3]>0.9]]"
   ]
  },
  {
   "cell_type": "code",
   "execution_count": null,
   "metadata": {},
   "outputs": [],
   "source": [
    "med = median_bottom(video_info_thr)\n",
    "\n",
    "imgs = put_points(frames,points_video,fps,med)"
   ]
  },
  {
   "cell_type": "code",
   "execution_count": null,
   "metadata": {},
   "outputs": [],
   "source": [
    "save_video(\"thr9.mp4\",imgs,fps,size)"
   ]
  },
  {
   "cell_type": "code",
   "execution_count": null,
   "metadata": {},
   "outputs": [],
   "source": [
    "test_imgs=frames.copy()\n",
    "for frame_info in video_info:\n",
    "    frame_id = frame_info[0][4]\n",
    "    test_imgs[frame_id] = draw_templates(frames[frame_id],frame_info)"
   ]
  },
  {
   "cell_type": "code",
   "execution_count": null,
   "metadata": {},
   "outputs": [],
   "source": [
    "med"
   ]
  },
  {
   "cell_type": "code",
   "execution_count": null,
   "metadata": {},
   "outputs": [],
   "source": [
    "show_frames(test_imgs,fps)"
   ]
  },
  {
   "cell_type": "code",
   "execution_count": null,
   "metadata": {},
   "outputs": [],
   "source": [
    "size[::-1]"
   ]
  },
  {
   "cell_type": "code",
   "execution_count": null,
   "metadata": {},
   "outputs": [],
   "source": [
    "for frame in test_imgs:\n",
    "    if frame.shape!=size[::-1]:\n",
    "        print(True)\n",
    "        break"
   ]
  },
  {
   "cell_type": "code",
   "execution_count": null,
   "metadata": {},
   "outputs": [],
   "source": [
    "save_video(\"t002_RI_full.mp4\",test_imgs,fps,size)"
   ]
  },
  {
   "cell_type": "code",
   "execution_count": null,
   "metadata": {},
   "outputs": [],
   "source": [
    "def make(path):\n",
    "    templates = load_templates()\n",
    "    for videoname in os.listdir(path):\n",
    "        if \".mp4\" not in videoname:\n",
    "            continue\n",
    "            \n",
    "        video_path = path+videoname\n",
    "        print(video_path)\n",
    "        \n",
    "        frames,fps,size = load_video_as_frames(video_path)\n",
    "        \n",
    "        points_video = init_points(frames)\n",
    "        \n",
    "        video_info = get_video_info(frames,templates)\n",
    "        \n",
    "        med = median_bottom(video_info)\n",
    "        \n",
    "        imgs = put_points(frames,points_video,fps,med)\n",
    "        \n",
    "        dst_path = path+\"med_ribs/\"\n",
    "        if not os.path.exists(dst_path):\n",
    "            os.mkdir(dst_path)\n",
    "            \n",
    "        dst_name = dst_path+videoname\n",
    "        save_video(dst_name,imgs,fps,size)\n",
    "        print(\"Successfully saved \",dst_name)"
   ]
  },
  {
   "cell_type": "code",
   "execution_count": null,
   "metadata": {},
   "outputs": [],
   "source": [
    "make(\"LAS/\")"
   ]
  },
  {
   "cell_type": "code",
   "execution_count": null,
   "metadata": {},
   "outputs": [],
   "source": [
    "from methods import *"
   ]
  },
  {
   "cell_type": "code",
   "execution_count": null,
   "metadata": {},
   "outputs": [],
   "source": [
    "points_video[:3]"
   ]
  },
  {
   "cell_type": "code",
   "execution_count": null,
   "metadata": {},
   "outputs": [],
   "source": []
  },
  {
   "cell_type": "code",
   "execution_count": null,
   "metadata": {},
   "outputs": [],
   "source": [
    "def put_points(video,points_video,fps,median_bottom):\n",
    "    \n",
    "    imgs=[cv2.cvtColor(img,cv2.COLOR_GRAY2BGR) for img in video]\n",
    "    ##imgs[img_id][point_id] : [x,y,confidence,frame_id]\n",
    "    for img_id in range(len(imgs)):\n",
    "        for x in range(10):\n",
    "            if points_video[img_id][x][2]>1:\n",
    "                color = (0,0,255) \n",
    "                cv2.putText(imgs[img_id], 'o', (int(points_video[img_id][x][0]),meidan_bottom), cv2.FONT_HERSHEY_SIMPLEX, 1, color, 1)\n",
    "            color = (0,255,0)\n",
    "            cv2.putText(imgs[img_id], 'o', (int(points_video[img_id][x][0]),int(points_video[img_id][x][1])), cv2.FONT_HERSHEY_SIMPLEX, 1, color, 1)\n",
    "\n",
    "        cv2.line(imgs[img_id], (0,median_bottom),(imgs[img_id].shape[1],median_bottom),(0, 255, 255))\n",
    "    \n",
    "    return imgs"
   ]
  },
  {
   "cell_type": "code",
   "execution_count": 11,
   "metadata": {},
   "outputs": [],
   "source": [
    "# points_video, video_info, frames, median_bottom\n",
    "\n",
    "def points_error_correct(points_video,median_bottom,scale=None):\n",
    "\n",
    "    mD = median_D(points_video,median_bottom)\n",
    "    if scale:\n",
    "        mD = scale*mD\n",
    "    \n",
    "    points_correct = points_video.copy()\n",
    "    \n",
    "    for frame_id in range(len(points_correct)):\n",
    "        for point_id in range(len(points_correct[frame_id])):\n",
    "            D=np.abs(points_correct[frame_id][point_id][1]-median_bottom)\n",
    "            if D>mD:\n",
    "                points_correct[frame_id][point_id][2]=1.1\n",
    "    return points_correct"
   ]
  },
  {
   "cell_type": "code",
   "execution_count": null,
   "metadata": {},
   "outputs": [],
   "source": [
    "points_correct = points_error_correct(points_video,median_bottom)"
   ]
  },
  {
   "cell_type": "code",
   "execution_count": null,
   "metadata": {
    "scrolled": true
   },
   "outputs": [],
   "source": [
    "imgs_correct = put_points(frames,points_correct,fps,median_bottom)"
   ]
  },
  {
   "cell_type": "code",
   "execution_count": null,
   "metadata": {},
   "outputs": [],
   "source": [
    "show_frames(imgs_correct,fps)"
   ]
  },
  {
   "cell_type": "code",
   "execution_count": null,
   "metadata": {},
   "outputs": [],
   "source": []
  },
  {
   "cell_type": "code",
   "execution_count": 9,
   "metadata": {},
   "outputs": [],
   "source": [
    "def median_D(points_video,median):\n",
    "    data = []\n",
    "    for points_frame in points_video:\n",
    "        for point in points_frame:\n",
    "            data.append(np.abs(point[1]-median))\n",
    "    med = np.median(data).astype(int)\n",
    "    return med"
   ]
  },
  {
   "cell_type": "code",
   "execution_count": null,
   "metadata": {},
   "outputs": [],
   "source": [
    "mmedian_D(points_video,med)"
   ]
  },
  {
   "cell_type": "code",
   "execution_count": null,
   "metadata": {},
   "outputs": [],
   "source": [
    "D=dict()\n",
    "for i in data:\n",
    "    if i not in D:\n",
    "        D[i]=1\n",
    "    else:\n",
    "        D[i]+=1\n",
    "    "
   ]
  },
  {
   "cell_type": "code",
   "execution_count": null,
   "metadata": {},
   "outputs": [],
   "source": [
    "DL=[[i,D[i]] for i in D]\n",
    "DL.sort()\n",
    "DL"
   ]
  },
  {
   "cell_type": "code",
   "execution_count": null,
   "metadata": {},
   "outputs": [],
   "source": [
    "plt.plot([i[0] for i in DL],[i[1] for i in DL])\n",
    "plt.show()"
   ]
  },
  {
   "cell_type": "code",
   "execution_count": null,
   "metadata": {},
   "outputs": [],
   "source": [
    "def median_bottom(info):\n",
    "    Bottom=[]\n",
    "    for frame_info in info:\n",
    "        for piece in frame_info:\n",
    "            top_left,bottom_right,temp_id,confidence,frame_id=piece\n",
    "            Bottom.append(bottom_right[1])\n",
    "    y_median = np.median(Bottom).astype(int)\n",
    "    return y_median"
   ]
  },
  {
   "cell_type": "code",
   "execution_count": null,
   "metadata": {},
   "outputs": [],
   "source": [
    "video_info"
   ]
  },
  {
   "cell_type": "code",
   "execution_count": 15,
   "metadata": {},
   "outputs": [],
   "source": [
    "def make(path):\n",
    "    templates = load_templates()\n",
    "    \n",
    "    for videoname in os.listdir(path):\n",
    "        if \".mp4\" not in videoname:\n",
    "            continue\n",
    "\n",
    "        video_path = path+videoname\n",
    "        print(video_path)\n",
    "\n",
    "        frames,fps,size = load_video_as_frames(video_path)\n",
    "\n",
    "        points_video = init_points(frames)\n",
    "\n",
    "        video_info = get_video_info(frames,templates)\n",
    "\n",
    "        mb = median_bottom(video_info)\n",
    "\n",
    "        points_correct = points_error_correct(points_video,mb)\n",
    "\n",
    "        imgs_correct = put_points(frames,points_correct,fps,mb)\n",
    "\n",
    "        for i in range(len(video_info)):\n",
    "            #video_info:[top_left,bottom_right,temp_id,confidence,i]#video_info:[top_left,bottom_right,temp_id,confidence,i]\n",
    "            frame_id = video_info[i][0][4] \n",
    "            imgs_correct[frame_id] = draw_templates(imgs_correct[frame_id],video_info[i])\n",
    "\n",
    "        dst_path = path+\"corrected1/\"\n",
    "        if not os.path.exists(dst_path):\n",
    "            os.mkdir(dst_path)\n",
    "\n",
    "#         time = \"\".join([str(time.localtime(time.time())[i])+\"-\" for i in range(1,5)])#'3-3-20-21'\n",
    "        dst_name = dst_path+videoname\n",
    "        save_video(dst_name,imgs_correct,fps,size)\n",
    "        print(\"Successfully saved \",dst_name)"
   ]
  },
  {
   "cell_type": "code",
   "execution_count": 16,
   "metadata": {
    "scrolled": true
   },
   "outputs": [
    {
     "name": "stdout",
     "output_type": "stream",
     "text": [
      "LAS/001_RI_full.mp4\n",
      "Successfully saved  LAS/corrected1/001_RI_full.mp4\n",
      "LAS/002_RI_full.mp4\n",
      "Successfully saved  LAS/corrected1/002_RI_full.mp4\n",
      "LAS/003_RI_full.mp4\n",
      "Successfully saved  LAS/corrected1/003_RI_full.mp4\n",
      "LAS/004_RI_full.mp4\n",
      "Successfully saved  LAS/corrected1/004_RI_full.mp4\n",
      "LAS/005_RI_full.mp4\n",
      "Successfully saved  LAS/corrected1/005_RI_full.mp4\n",
      "LAS/006_RI_full.mp4\n",
      "Successfully saved  LAS/corrected1/006_RI_full.mp4\n",
      "LAS/007_RI_full.mp4\n",
      "Successfully saved  LAS/corrected1/007_RI_full.mp4\n",
      "LAS/008_RI_full.mp4\n",
      "Successfully saved  LAS/corrected1/008_RI_full.mp4\n",
      "LAS/009_RI_full.mp4\n",
      "Successfully saved  LAS/corrected1/009_RI_full.mp4\n",
      "LAS/010_RI_full.mp4\n",
      "Successfully saved  LAS/corrected1/010_RI_full.mp4\n"
     ]
    }
   ],
   "source": [
    "make(\"LAS/\")"
   ]
  },
  {
   "cell_type": "code",
   "execution_count": 5,
   "metadata": {},
   "outputs": [],
   "source": [
    "templates = load_templates()"
   ]
  },
  {
   "cell_type": "code",
   "execution_count": 4,
   "metadata": {},
   "outputs": [
    {
     "name": "stdout",
     "output_type": "stream",
     "text": [
      "test/001_RI_full.mp4\n"
     ]
    },
    {
     "ename": "NameError",
     "evalue": "name 'templates' is not defined",
     "output_type": "error",
     "traceback": [
      "\u001b[1;31m---------------------------------------------------------------------------\u001b[0m",
      "\u001b[1;31mNameError\u001b[0m                                 Traceback (most recent call last)",
      "\u001b[1;32m<ipython-input-4-4dbf382e6514>\u001b[0m in \u001b[0;36m<module>\u001b[1;34m\u001b[0m\n\u001b[0;32m     11\u001b[0m     \u001b[0mpoints_video\u001b[0m \u001b[1;33m=\u001b[0m \u001b[0minit_points\u001b[0m\u001b[1;33m(\u001b[0m\u001b[0mframes\u001b[0m\u001b[1;33m)\u001b[0m\u001b[1;33m\u001b[0m\u001b[1;33m\u001b[0m\u001b[0m\n\u001b[0;32m     12\u001b[0m \u001b[1;33m\u001b[0m\u001b[0m\n\u001b[1;32m---> 13\u001b[1;33m     \u001b[0mvideo_info\u001b[0m \u001b[1;33m=\u001b[0m \u001b[0mget_video_info\u001b[0m\u001b[1;33m(\u001b[0m\u001b[0mframes\u001b[0m\u001b[1;33m,\u001b[0m\u001b[0mtemplates\u001b[0m\u001b[1;33m)\u001b[0m\u001b[1;33m\u001b[0m\u001b[1;33m\u001b[0m\u001b[0m\n\u001b[0m\u001b[0;32m     14\u001b[0m \u001b[1;33m\u001b[0m\u001b[0m\n\u001b[0;32m     15\u001b[0m     \u001b[0mmb\u001b[0m \u001b[1;33m=\u001b[0m \u001b[0mmedian_bottom\u001b[0m\u001b[1;33m(\u001b[0m\u001b[0mvideo_info\u001b[0m\u001b[1;33m)\u001b[0m\u001b[1;33m\u001b[0m\u001b[1;33m\u001b[0m\u001b[0m\n",
      "\u001b[1;31mNameError\u001b[0m: name 'templates' is not defined"
     ]
    }
   ],
   "source": [
    "path = \"test/\"\n",
    "\n",
    "for videoname in os.listdir(path):\n",
    "    if \".mp4\" not in videoname:\n",
    "        continue\n",
    "\n",
    "    video_path = path+videoname\n",
    "    print(video_path)\n",
    "\n",
    "    frames,fps,size = load_video_as_frames(video_path)\n",
    "\n",
    "    points_video = init_points(frames)\n",
    "\n",
    "    video_info = get_video_info(frames,templates)\n",
    "\n",
    "    mb = median_bottom(video_info)\n",
    "\n",
    "    points_correct = points_error_correct(points_video,mb)\n",
    "\n",
    "    imgs_correct = put_points(frames,points_correct,fps,mb)\n",
    "    \n",
    "    #video_info:[top_left,bottom_right,temp_id,confidence,i]\n",
    "    \n",
    "    for i in range(len(video_info)):\n",
    "        frame_id = video_info[i][0][4]\n",
    "        imgs_correct[frame_id] = draw_templates(imgs_correct[frame_id],video_info[i])\n",
    "\n",
    "    dst_path = path+\"corrected1/\"\n",
    "    if not os.path.exists(dst_path):\n",
    "        os.mkdir(dst_path)\n",
    "\n",
    "    dst_name = dst_path+videoname\n",
    "    save_video(dst_name,imgs_correct,fps,size)\n",
    "    print(\"Successfully saved \",dst_name)"
   ]
  },
  {
   "cell_type": "code",
   "execution_count": 14,
   "metadata": {},
   "outputs": [
    {
     "name": "stdout",
     "output_type": "stream",
     "text": [
      "Successfully saved  test/corrected1/001_RI_full.mp4\n"
     ]
    }
   ],
   "source": [
    "points_correct = points_error_correct(points_video,mb)\n",
    "\n",
    "imgs_correct = put_points(frames,points_correct,fps,mb)\n",
    "\n",
    "#video_info:[top_left,bottom_right,temp_id,confidence,i]\n",
    "\n",
    "for i in range(len(video_info)):\n",
    "    frame_id = video_info[i][0][4]\n",
    "    imgs_correct[frame_id] = draw_templates(imgs_correct[frame_id],video_info[i])\n",
    "\n",
    "dst_path = path+\"corrected1/\"\n",
    "if not os.path.exists(dst_path):\n",
    "    os.mkdir(dst_path)\n",
    "\n",
    "dst_name = dst_path+videoname\n",
    "save_video(dst_name,imgs_correct,fps,size)\n",
    "print(\"Successfully saved \",dst_name)"
   ]
  },
  {
   "cell_type": "code",
   "execution_count": null,
   "metadata": {},
   "outputs": [],
   "source": [
    "path = \"test/\"\n",
    "for videoname in os.listdir(path):\n",
    "    if \".mp4\" not in videoname:\n",
    "        continue\n",
    "\n",
    "    vn = videoname\n",
    "\n",
    "points_correct = points_error_correct(points_video,med)\n",
    "\n",
    "imgs_correct = put_points(frames,points_correct,fps,med)\n",
    "\n",
    "#video_info:[top_left,bottom_right,temp_id,confidence,i]\n",
    "\n",
    "for i in range(len(video_info)):\n",
    "    frame_id = video_info[i][0][4]\n",
    "    imgs_correct[frame_id] = draw_templates(imgs_correct[frame_id],video_info[i])\n",
    "\n",
    "dst_path = path+\"corrected1/\"\n",
    "if not os.path.exists(dst_path):\n",
    "    os.mkdir(dst_path)\n",
    "\n",
    "dst_name = dst_path+vn\n",
    "save_video(dst_name,imgs_correct,fps,size)\n",
    "print(\"Successfully saved \",dst_name)"
   ]
  },
  {
   "cell_type": "code",
   "execution_count": 13,
   "metadata": {},
   "outputs": [],
   "source": [
    "def put_points(video,points_video,fps,median_bottom):\n",
    "    \n",
    "    imgs=[cv2.cvtColor(img,cv2.COLOR_GRAY2BGR) for img in video]\n",
    "    ##imgs[img_id][point_id] : [x,y,confidence,frame_id]\n",
    "    for img_id in range(len(imgs)):\n",
    "        for x in range(10):\n",
    "            if points_video[img_id][x][2]>1:\n",
    "                color = (0,0,255) \n",
    "                cv2.putText(imgs[img_id], 'o', (int(points_video[img_id][x][0]),median_bottom), cv2.FONT_HERSHEY_SIMPLEX, 1, color, 1)\n",
    "            color = (0,255,0)\n",
    "            cv2.putText(imgs[img_id], 'o', (int(points_video[img_id][x][0]),int(points_video[img_id][x][1])), cv2.FONT_HERSHEY_SIMPLEX, 1, color, 1)\n",
    "\n",
    "        cv2.line(imgs[img_id], (0,median_bottom),(imgs[img_id].shape[1],median_bottom),(0, 255, 255))\n",
    "    \n",
    "    return imgs"
   ]
  },
  {
   "cell_type": "code",
   "execution_count": null,
   "metadata": {},
   "outputs": [],
   "source": [
    "dst_path = path+\"corrected/\"\n",
    "if not os.path.exists(dst_path):\n",
    "    os.mkdir(dst_path)\n",
    "\n",
    "dst_name = dst_path+videoname\n",
    "save_video(dst_name,imgs_correct,fps,size)\n",
    "print(\"Successfully saved \",dst_name)"
   ]
  },
  {
   "cell_type": "code",
   "execution_count": null,
   "metadata": {},
   "outputs": [],
   "source": [
    "print(len(imgs_correct),len(video_info))"
   ]
  },
  {
   "cell_type": "code",
   "execution_count": null,
   "metadata": {},
   "outputs": [],
   "source": [
    "len(frames)"
   ]
  },
  {
   "cell_type": "code",
   "execution_count": null,
   "metadata": {},
   "outputs": [],
   "source": [
    "video_info[0]"
   ]
  },
  {
   "cell_type": "code",
   "execution_count": null,
   "metadata": {},
   "outputs": [],
   "source": [
    "def draw_templates(frame,info,thr=0):\n",
    "    img=frame.copy()\n",
    "    for temp in info:\n",
    "        top_left,bottom_right,temp_id,confidence,frame_id=temp\n",
    "        if confidence>thr:\n",
    "            cv2.rectangle(img, top_left, bottom_right, 255, 1)\n",
    "            cv2.putText(img,\"template:\"+str(temp_id)+\"  Confidence:\"+str(round(confidence,2)),(top_left[0],top_left[1]), cv2.FONT_HERSHEY_SIMPLEX, 1, 255, 1)\n",
    "    return img"
   ]
  },
  {
   "cell_type": "code",
   "execution_count": null,
   "metadata": {},
   "outputs": [],
   "source": [
    "for i in range(len(video_info)):\n",
    "    frame_id = video_info[i][0][4]\n",
    "    imgs_correct[frame_id] = draw_templates(imgs_correct[frame_id],video_info[i])"
   ]
  },
  {
   "cell_type": "code",
   "execution_count": null,
   "metadata": {},
   "outputs": [],
   "source": [
    "show_frames(imgs_correct)\n"
   ]
  },
  {
   "cell_type": "code",
   "execution_count": 1,
   "metadata": {},
   "outputs": [],
   "source": [
    "from methods import *"
   ]
  },
  {
   "cell_type": "code",
   "execution_count": null,
   "metadata": {},
   "outputs": [],
   "source": [
    "#slide window"
   ]
  }
 ],
 "metadata": {
  "kernelspec": {
   "display_name": "Python 3",
   "language": "python",
   "name": "python3"
  },
  "language_info": {
   "codemirror_mode": {
    "name": "ipython",
    "version": 3
   },
   "file_extension": ".py",
   "mimetype": "text/x-python",
   "name": "python",
   "nbconvert_exporter": "python",
   "pygments_lexer": "ipython3",
   "version": "3.7.3"
  }
 },
 "nbformat": 4,
 "nbformat_minor": 2
}
