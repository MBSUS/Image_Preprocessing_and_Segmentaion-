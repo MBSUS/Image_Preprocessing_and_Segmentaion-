{
 "cells": [
  {
   "cell_type": "code",
   "execution_count": 4,
   "metadata": {},
   "outputs": [],
   "source": [
    "img1=cv2.imread('ras.png',0)\n",
    "\n",
    "#灰度化处理2：\n",
    "gray=cv2.cvtColor(img,cv2.COLOR_BGR2GRAY)"
   ]
  },
  {
   "cell_type": "code",
   "execution_count": 5,
   "metadata": {},
   "outputs": [
    {
     "data": {
      "text/plain": [
       "-1"
      ]
     },
     "execution_count": 5,
     "metadata": {},
     "output_type": "execute_result"
    }
   ],
   "source": [
    "#读入原始图像\n",
    "img=cv2.imread('ras.png',1)\n",
    " \n",
    "#灰度化处理1：直接读入灰度化图像\n",
    "img1=cv2.imread('ras.png',0)\n",
    " \n",
    "#灰度化处理2：\n",
    "gray=cv2.cvtColor(img,cv2.COLOR_BGR2GRAY)\n",
    " \n",
    "#通过窗口展示图片 第一个参数为窗口名 第二个为读取的图片变量\n",
    "cv2.imshow('img',img)\n",
    "cv2.imshow('gray1',img1)\n",
    "cv2.imshow('gray2',gray)\n",
    " \n",
    "#暂停cv2模块 不然图片窗口一瞬间即就会消失 观察不到\n",
    "cv2.waitKey(0)"
   ]
  },
  {
   "cell_type": "code",
   "execution_count": null,
   "metadata": {},
   "outputs": [],
   "source": [
    "\n",
    "import cv2\n",
    " \n",
    "#读入原始图像\n",
    "img=cv2.imread('ras.png',1)\n",
    "\n",
    "#灰度化处理：此灰度化处理用于图像二值化\n",
    "gray=cv2.cvtColor(img,cv2.COLOR_BGR2GRAY)\n",
    "\n",
    "#灰度化处理\n",
    "img1=gray.copy()\n",
    " \n",
    "\n",
    " \n",
    "#二值化函数\n",
    "cv2.threshold(img1,45,255,0,img1)\n",
    "cv2.threshold(gray,17,255,0,gray)#二值化函数\n",
    "\n",
    "#通过窗口展示图片 第一个参数为窗口名 第二个为读取的图片变量\n",
    "cv2.imshow('img',img)\n",
    "cv2.imshow('t1',img1)\n",
    "cv2.imshow('t2',gray)\n",
    " \n",
    "#暂停cv2模块 不然图片窗口一瞬间即就会消失 观察不到\n",
    "cv2.waitKey(0)"
   ]
  },
  {
   "cell_type": "code",
   "execution_count": null,
   "metadata": {},
   "outputs": [],
   "source": [
    "\n",
    "import cv2\n",
    " \n",
    "#读入原始图像\n",
    "img=cv2.imread('ras.png',1)\n",
    "\n",
    "#灰度化处理：此灰度化处理用于图像二值化\n",
    "gray=cv2.cvtColor(img,cv2.COLOR_BGR2GRAY)\n",
    "\n",
    "#灰度化处理\n",
    "img1=gray.copy()\n",
    " \n",
    "\n",
    " \n",
    "#二值化函数\n",
    "a,t1=cv2.threshold(gray,45,255,0)\n",
    "b,t2=cv2.threshold(gray,17,255,0)#二值化函数\n",
    "\n",
    "#通过窗口展示图片 第一个参数为窗口名 第二个为读取的图片变量\n",
    "cv2.imshow('img',img)\n",
    "cv2.imshow('t1',t1)\n",
    "cv2.imshow('t2',t2)\n",
    " \n",
    "#暂停cv2模块 不然图片窗口一瞬间即就会消失 观察不到\n",
    "cv2.waitKey(0)\n",
    "cv2.destroyAllWindows()"
   ]
  },
  {
   "cell_type": "code",
   "execution_count": 10,
   "metadata": {},
   "outputs": [],
   "source": [
    "\n",
    "import cv2\n",
    " \n",
    "#读入原始图像\n",
    "img=cv2.imread('ras.png',0)[100:600]\n",
    "\n",
    "\n",
    "\n",
    "#通过窗口展示图片 第一个参数为窗口名 第二个为读取的图片变量\n",
    "cv2.imshow('img',img)\n",
    " \n",
    "#暂停cv2模块 不然图片窗口一瞬间即就会消失 观察不到\n",
    "cv2.waitKey(0)\n",
    "cv2.destroyAllWindows()"
   ]
  },
  {
   "cell_type": "code",
   "execution_count": 6,
   "metadata": {},
   "outputs": [
    {
     "data": {
      "text/plain": [
       "(700, 1744)"
      ]
     },
     "execution_count": 6,
     "metadata": {},
     "output_type": "execute_result"
    }
   ],
   "source": [
    "img.shape"
   ]
  },
  {
   "cell_type": "code",
   "execution_count": 5,
   "metadata": {},
   "outputs": [],
   "source": [
    "import cv2\n",
    "import numpy as np  \n",
    " \n",
    "img = t2\n",
    " \n",
    "x = cv2.Sobel(img,cv2.CV_16S,1,0)\n",
    "y = cv2.Sobel(img,cv2.CV_16S,0,1)\n",
    " \n",
    "absX = cv2.convertScaleAbs(x)   # 转回uint8\n",
    "absY = cv2.convertScaleAbs(y)\n",
    " \n",
    "dst = cv2.addWeighted(absX,0.5,absY,0.5,0)\n",
    " \n",
    "cv2.imshow(\"absX\", absX)\n",
    "cv2.imshow(\"absY\", absY)\n",
    " \n",
    "cv2.imshow(\"Result\", dst)\n",
    " \n",
    "cv2.waitKey(0)\n",
    "cv2.destroyAllWindows()"
   ]
  },
  {
   "cell_type": "code",
   "execution_count": 32,
   "metadata": {
    "scrolled": true
   },
   "outputs": [],
   "source": [
    "# -*- coding: UTF-8 -*-\n",
    "import cv2\n",
    "\n",
    "video = cv2.VideoCapture(\"test.mp4\")\n",
    "fps = video.get(cv2.CAP_PROP_FPS)\n",
    "frameCount = video.get(cv2.CAP_PROP_FRAME_COUNT)\n",
    "size = (int(video.get(cv2.CAP_PROP_FRAME_WIDTH)), int(video.get(cv2.CAP_PROP_FRAME_HEIGHT)))\n",
    "\n",
    "videoWriter = cv2.VideoWriter('trans.mp4', cv2.VideoWriter_fourcc(*'MP4V'), fps, size)  \n",
    "success, frame = video.read()  \n",
    "frame =  frame[75:625]\n",
    "index = 1\n",
    "while success :  \n",
    "    # cv2.putText(frame, 'fps: ' + str(fps), (0, 200), cv2.FONT_HERSHEY_SIMPLEX, 2, (255,0,255), 5)\n",
    "    # cv2.putText(frame, 'count: ' + str(frameCount), (0, 300), cv2.FONT_HERSHEY_SIMPLEX,2, (255,0,255), 5)\n",
    "    # cv2.putText(frame, 'frame: ' + str(index), (0, 400), cv2.FONT_HERSHEY_SIMPLEX, 2, (255,0,255), 5)\n",
    "    # cv2.putText(frame, 'time: ' + str(round(index / 24.0, 2)) + \"s\", (0,500), cv2.FONT_HERSHEY_SIMPLEX, 2, (255,0,255), 5)\n",
    "    cv2.imshow(\"new video\", frame)\n",
    "    cv2.waitKey(int(1000 / int(fps)))\n",
    "    videoWriter.write(frame)\n",
    "    if index==60:tp=frame.copy()\n",
    "    success, frame = video.read()\n",
    "    if success:frame =  frame[75:650] \n",
    "    index += 1\n",
    "\n",
    "video.release()\n",
    "cv2.destroyAllWindows()"
   ]
  },
  {
   "cell_type": "code",
   "execution_count": 73,
   "metadata": {},
   "outputs": [],
   "source": [
    "# -*- coding: UTF-8 -*-\n",
    "import cv2\n",
    "import numpy as np\n",
    "\n",
    "video = cv2.VideoCapture(\"test.mp4\")\n",
    "fps = video.get(cv2.CAP_PROP_FPS)\n",
    "frameCount = video.get(cv2.CAP_PROP_FRAME_COUNT)\n",
    "size = (int(video.get(cv2.CAP_PROP_FRAME_WIDTH)), int(video.get(cv2.CAP_PROP_FRAME_HEIGHT)))\n",
    "\n",
    "videoWriter = cv2.VideoWriter('trans.mp4', cv2.VideoWriter_fourcc(*'MP4V'), fps, size)  \n",
    "success, frame = video.read()  \n",
    "frame =  frame[75:625]\n",
    "index = 1\n",
    "while success :  \n",
    "    videoWriter.write(frame)\n",
    "    if index==60:tp=frame.copy()\n",
    "    success, frame = video.read()\n",
    "    if success:frame =  frame[70:680,200:730] \n",
    "    index += 1\n",
    "\n",
    "video.release()\n",
    "# cv2.destroyAllWindows()"
   ]
  },
  {
   "cell_type": "code",
   "execution_count": 75,
   "metadata": {},
   "outputs": [
    {
     "data": {
      "text/plain": [
       "-1"
      ]
     },
     "execution_count": 75,
     "metadata": {},
     "output_type": "execute_result"
    }
   ],
   "source": [
    "#灰度化处理：此灰度化处理用于图像二值化\n",
    "\n",
    "img=tp[:,:,0].copy()\n",
    "# #灰度化处理\n",
    "# img1=gray.copy()\n",
    "\n",
    "#二值化函数\n",
    "cv2.threshold(img,45,255,0,img)\n",
    "# cv2.threshold(gray,17,255,0,gray)#二值化函数\n",
    "\n",
    "#通过窗口展示图片 第一个参数为窗口名 第二个为读取的图片变量\n",
    "cv2.imshow('img',img)\n",
    "cv2.waitKey(0)"
   ]
  },
  {
   "cell_type": "code",
   "execution_count": 106,
   "metadata": {},
   "outputs": [
    {
     "data": {
      "text/plain": [
       "(610, 530, 3)"
      ]
     },
     "execution_count": 106,
     "metadata": {},
     "output_type": "execute_result"
    }
   ],
   "source": []
  },
  {
   "cell_type": "code",
   "execution_count": 84,
   "metadata": {},
   "outputs": [
    {
     "data": {
      "text/plain": [
       "-1"
      ]
     },
     "execution_count": 84,
     "metadata": {},
     "output_type": "execute_result"
    }
   ],
   "source": [
    "cv2.imshow('img',tp)\n",
    "cv2.waitKey(0)"
   ]
  },
  {
   "cell_type": "code",
   "execution_count": 102,
   "metadata": {},
   "outputs": [],
   "source": [
    "B=[]\n",
    "for i in range(53):\n",
    "    tmp=img[:,0+i*10:10+i*10]\n",
    "    total = sum([sum(i) for i in tmp])\n",
    "    count=0\n",
    "    for idx,lice in enumerate(tmp):\n",
    "        count+=sum(lice)\n",
    "        if count>=total/2:\n",
    "            B.append([5+i*10,idx])\n",
    "            break"
   ]
  },
  {
   "cell_type": "code",
   "execution_count": 105,
   "metadata": {},
   "outputs": [
    {
     "data": {
      "text/plain": [
       "-1"
      ]
     },
     "execution_count": 105,
     "metadata": {},
     "output_type": "execute_result"
    }
   ],
   "source": [
    "tmp=tp.copy()\n",
    "for pos in B:  \n",
    "    cv2.putText(tmp, 'o', (pos[0],pos[1]), cv2.FONT_HERSHEY_SIMPLEX, 1, (255,0,255), 1)\n",
    "cv2.imshow('img',tmp)\n",
    "cv2.waitKey(0)"
   ]
  },
  {
   "cell_type": "code",
   "execution_count": 74,
   "metadata": {},
   "outputs": [],
   "source": [
    "def best_fit(X, Y):\n",
    "\n",
    "    xbar = sum(X)/len(X)\n",
    "    ybar = sum(Y)/len(Y)\n",
    "    n = len(X) # or len(Y)\n",
    "\n",
    "    numer = sum([xi*yi for xi,yi in zip(X, Y)]) - n * xbar * ybar\n",
    "    denum = sum([xi**2 for xi in X]) - n * xbar**2\n",
    "\n",
    "    b = np.round(numer / denum,2)\n",
    "    a = np.round(ybar - b * xbar,2)\n",
    "\n",
    "    return a,b\n",
    "def getends(a,b):\n",
    "    return [(0,int(a)),(530,int(a+b*530))]"
   ]
  },
  {
   "cell_type": "code",
   "execution_count": 1,
   "metadata": {},
   "outputs": [
    {
     "ename": "NameError",
     "evalue": "name 'best_fit' is not defined",
     "output_type": "error",
     "traceback": [
      "\u001b[1;31m---------------------------------------------------------------------------\u001b[0m",
      "\u001b[1;31mNameError\u001b[0m                                 Traceback (most recent call last)",
      "\u001b[1;32m<ipython-input-1-d80d4f804d99>\u001b[0m in \u001b[0;36m<module>\u001b[1;34m\u001b[0m\n\u001b[0;32m     33\u001b[0m         \u001b[0mX\u001b[0m \u001b[1;33m=\u001b[0m \u001b[1;33m[\u001b[0m\u001b[0mi\u001b[0m\u001b[1;33m[\u001b[0m\u001b[1;36m0\u001b[0m\u001b[1;33m]\u001b[0m \u001b[1;32mfor\u001b[0m \u001b[0mi\u001b[0m \u001b[1;32min\u001b[0m \u001b[0mB\u001b[0m\u001b[1;33m]\u001b[0m\u001b[1;33m\u001b[0m\u001b[1;33m\u001b[0m\u001b[0m\n\u001b[0;32m     34\u001b[0m         \u001b[0mY\u001b[0m \u001b[1;33m=\u001b[0m \u001b[1;33m[\u001b[0m\u001b[0mi\u001b[0m\u001b[1;33m[\u001b[0m\u001b[1;36m1\u001b[0m\u001b[1;33m]\u001b[0m \u001b[1;32mfor\u001b[0m \u001b[0mi\u001b[0m \u001b[1;32min\u001b[0m \u001b[0mB\u001b[0m\u001b[1;33m]\u001b[0m\u001b[1;33m\u001b[0m\u001b[1;33m\u001b[0m\u001b[0m\n\u001b[1;32m---> 35\u001b[1;33m         \u001b[0ma\u001b[0m\u001b[1;33m,\u001b[0m\u001b[0mb\u001b[0m\u001b[1;33m=\u001b[0m\u001b[0mbest_fit\u001b[0m\u001b[1;33m(\u001b[0m\u001b[0mX\u001b[0m\u001b[1;33m,\u001b[0m\u001b[0mY\u001b[0m\u001b[1;33m)\u001b[0m\u001b[1;33m\u001b[0m\u001b[1;33m\u001b[0m\u001b[0m\n\u001b[0m\u001b[0;32m     36\u001b[0m         \u001b[0mp\u001b[0m\u001b[1;33m=\u001b[0m\u001b[0mgetends\u001b[0m\u001b[1;33m(\u001b[0m\u001b[0ma\u001b[0m\u001b[1;33m,\u001b[0m\u001b[0mb\u001b[0m\u001b[1;33m)\u001b[0m\u001b[1;33m\u001b[0m\u001b[1;33m\u001b[0m\u001b[0m\n\u001b[0;32m     37\u001b[0m         \u001b[0mcv2\u001b[0m\u001b[1;33m.\u001b[0m\u001b[0mline\u001b[0m\u001b[1;33m(\u001b[0m\u001b[0mimg\u001b[0m\u001b[1;33m,\u001b[0m \u001b[0mp\u001b[0m\u001b[1;33m[\u001b[0m\u001b[1;36m0\u001b[0m\u001b[1;33m]\u001b[0m\u001b[1;33m,\u001b[0m \u001b[0mp\u001b[0m\u001b[1;33m[\u001b[0m\u001b[1;36m1\u001b[0m\u001b[1;33m]\u001b[0m\u001b[1;33m,\u001b[0m \u001b[1;33m(\u001b[0m\u001b[1;36m0\u001b[0m\u001b[1;33m,\u001b[0m \u001b[1;36m0\u001b[0m\u001b[1;33m,\u001b[0m \u001b[1;36m255\u001b[0m\u001b[1;33m)\u001b[0m\u001b[1;33m)\u001b[0m\u001b[1;33m\u001b[0m\u001b[1;33m\u001b[0m\u001b[0m\n",
      "\u001b[1;31mNameError\u001b[0m: name 'best_fit' is not defined"
     ]
    }
   ],
   "source": [
    "import cv2\n",
    "import numpy as np\n",
    "\n",
    "video = cv2.VideoCapture(\"test.mp4\")\n",
    "fps = video.get(cv2.CAP_PROP_FPS)\n",
    "frameCount = video.get(cv2.CAP_PROP_FRAME_COUNT)\n",
    "size = (int(video.get(cv2.CAP_PROP_FRAME_WIDTH)), int(video.get(cv2.CAP_PROP_FRAME_HEIGHT)))\n",
    "\n",
    "# videoWriter = cv2.VideoWriter('testout.mp4', cv2.VideoWriter_fourcc(*'MP4V'), fps, (610,530))  \n",
    "\n",
    "success, frame = video.read()  \n",
    "img = frame[70:680,200:730].copy()\n",
    "frame =  frame[70:680,200:730,0]\n",
    "\n",
    "index = 1\n",
    "thr=90\n",
    "\n",
    "while success:  \n",
    "    if index%5==0:\n",
    "        wst,frame=cv2.threshold(frame,thr,255,0)\n",
    "\n",
    "        B=[]\n",
    "        for i in range(53):\n",
    "            tmp=frame[:,0+i*10:10+i*10]\n",
    "            total = sum([sum(i) for i in tmp])\n",
    "            count=0\n",
    "            for idx,lice in enumerate(tmp):\n",
    "                count+=sum(lice)\n",
    "                if count>=total/2:\n",
    "                    B.append([5+i*10,idx])\n",
    "                    break\n",
    "\n",
    "        X = [i[0] for i in B]\n",
    "        Y = [i[1] for i in B]\n",
    "        a,b=best_fit(X,Y)\n",
    "        p=getends(a,b)\n",
    "        cv2.line(img, p[0], p[1], (0, 0, 255))\n",
    "\n",
    "    #     videoWriter.write(img)\n",
    "\n",
    "        cv2.imshow(\"new video\", img)\n",
    "        cv2.waitKey(int(1000/ int(fps)))\n",
    "    success, frame = video.read()\n",
    "    index += 1\n",
    "    if success and index%5==0:\n",
    "        img = frame[70:680,200:730].copy()\n",
    "        frame =  frame[70:680,200:730,0] \n",
    "\n",
    "video.release()\n",
    "cv2.destroyAllWindows()"
   ]
  },
  {
   "cell_type": "code",
   "execution_count": 44,
   "metadata": {},
   "outputs": [
    {
     "data": {
      "text/plain": [
       "(610, 530, 3)"
      ]
     },
     "execution_count": 44,
     "metadata": {},
     "output_type": "execute_result"
    }
   ],
   "source": [
    "img.shape"
   ]
  },
  {
   "cell_type": "code",
   "execution_count": 42,
   "metadata": {},
   "outputs": [
    {
     "data": {
      "text/plain": [
       "(936, 1080)"
      ]
     },
     "execution_count": 42,
     "metadata": {},
     "output_type": "execute_result"
    }
   ],
   "source": [
    "size"
   ]
  },
  {
   "cell_type": "code",
   "execution_count": 39,
   "metadata": {},
   "outputs": [
    {
     "data": {
      "text/plain": [
       "True"
      ]
     },
     "execution_count": 39,
     "metadata": {},
     "output_type": "execute_result"
    }
   ],
   "source": [
    "list(range(53))==list(range(26))+list(range(26,53))"
   ]
  },
  {
   "cell_type": "code",
   "execution_count": 21,
   "metadata": {
    "collapsed": true
   },
   "outputs": [
    {
     "name": "stdout",
     "output_type": "stream",
     "text": [
      "best fit line:\n",
      "y = 173.22 + -0.06x\n",
      "100\n",
      "1\n"
     ]
    }
   ],
   "source": [
    "# for thr in range(30,150,10):\n",
    "for thr in [100]:\n",
    "    img=tp[:,:,0].copy()\n",
    "\n",
    "    #二值化函数\n",
    "    cv2.threshold(img,thr,255,0,img)\n",
    "    \n",
    "    B=[]\n",
    "    for i in range(53):\n",
    "        tmp=img[:,0+i*10:10+i*10]\n",
    "        total = sum([sum(i) for i in tmp])\n",
    "        count=0\n",
    "        for idx,lice in enumerate(tmp):\n",
    "            count+=sum(lice)\n",
    "            if count>=total/2:\n",
    "                B.append([5+i*10,idx])\n",
    "                break\n",
    "    tmp=tp.copy()\n",
    "    X = [i[0] for i in B]\n",
    "    Y = [i[1] for i in B]\n",
    "    a,b=best_fit(X,Y)\n",
    "    p=getends(a,b)\n",
    "    cv2.line(tmp, p[0], p[1], (0, 0, 255))\n",
    "    cv2.imshow('img',tmp)\n",
    "    cv2.waitKey(0)\n",
    "    print(thr)\n",
    "    if input()==\"1\":break"
   ]
  },
  {
   "cell_type": "code",
   "execution_count": 17,
   "metadata": {},
   "outputs": [
    {
     "name": "stdout",
     "output_type": "stream",
     "text": [
      "100\n",
      "0\n"
     ]
    }
   ],
   "source": [
    "# for thr in range(30,150,10):\n",
    "for thr in [110]:\n",
    "    img=tp[:,:,0].copy()\n",
    "\n",
    "    #二值化函数\n",
    "    cv2.threshold(img,thr,255,0,img)\n",
    "    \n",
    "    B=[]\n",
    "    for i in range(53):\n",
    "        tmp=img[:,0+i*10:10+i*10]\n",
    "        total = sum([sum(i) for i in tmp])\n",
    "        count=0\n",
    "        for idx,lice in enumerate(tmp):\n",
    "            count+=sum(lice)\n",
    "            if count>=total/2:\n",
    "                B.append([5+i*10,idx])\n",
    "                break\n",
    "    tmp=tp.copy()\n",
    "    for pos in B:  \n",
    "        cv2.putText(tmp, 'o', (pos[0],pos[1]), cv2.FONT_HERSHEY_SIMPLEX, 1, (0,0,255), 1)\n",
    "    cv2.imshow('img',tmp)\n",
    "    cv2.waitKey(0)\n",
    "    print(thr)\n",
    "    if input()==\"exit\":break"
   ]
  },
  {
   "cell_type": "code",
   "execution_count": 97,
   "metadata": {},
   "outputs": [
    {
     "data": {
      "text/plain": [
       "-1"
      ]
     },
     "execution_count": 97,
     "metadata": {},
     "output_type": "execute_result"
    }
   ],
   "source": [
    "tmp=tp.copy()\n",
    "cv2.putText(tmp, 'o', (265, 305), cv2.FONT_HERSHEY_SIMPLEX, 1, (255,0,255), 1)\n",
    "cv2.imshow('img',tmp)\n",
    "cv2.waitKey(0)\n",
    "\n",
    "    # cv2.putText(frame, 'count: ' + str(frameCount), (0, 300), cv2.FONT_HERSHEY_SIMPLEX,2, (255,0,255), 5)\n",
    "    # cv2.putText(frame, 'frame: ' + str(index), (0, 400), cv2.FONT_HERSHEY_SIMPLEX, 2, (255,0,255), 5)\n",
    "    # cv2.putText(frame, 'time: ' + str(round(index / 24.0, 2)) + \"s\", (0,500), cv2.FONT_HERSHEY_SIMPLEX, 2, (255,0,255), 5)\n",
    "#     cv2.imshow(\"new video\", frame)"
   ]
  },
  {
   "cell_type": "code",
   "execution_count": 53,
   "metadata": {},
   "outputs": [],
   "source": [
    "cv2.imshow(\"new video\", tp)\n",
    "cv2.waitKey(0)\n",
    "cv2.destroyAllWindows()"
   ]
  },
  {
   "cell_type": "code",
   "execution_count": 18,
   "metadata": {},
   "outputs": [],
   "source": [
    "import numpy as np\n",
    "tq=np.array(range(100)).reshape(20,5)"
   ]
  },
  {
   "cell_type": "code",
   "execution_count": 102,
   "metadata": {},
   "outputs": [
    {
     "name": "stdout",
     "output_type": "stream",
     "text": [
      "best fit line:\n",
      "y = 50.00 + 0.03x\n"
     ]
    },
    {
     "data": {
      "image/png": "[encoded data removed]",
      "text/plain": [
       "<Figure size 432x288 with 1 Axes>"
      ]
     },
     "metadata": {
      "needs_background": "light"
     },
     "output_type": "display_data"
    }
   ],
   "source": [
    "# sample points \n",
    "X = [i[0] for i in B]\n",
    "Y = [i[1] for i in B]\n",
    "def best_fit(X, Y):\n",
    "\n",
    "    xbar = sum(X)/len(X)\n",
    "    ybar = sum(Y)/len(Y)\n",
    "    n = len(X) # or len(Y)\n",
    "\n",
    "    numer = sum([xi*yi for xi,yi in zip(X, Y)]) - n * xbar * ybar\n",
    "    denum = sum([xi**2 for xi in X]) - n * xbar**2\n",
    "\n",
    "    b = np.round(numer / denum,2)\n",
    "    a = np.round(ybar - b * xbar,2)\n",
    "\n",
    "    print('best fit line:\\ny = {:.2f} + {:.2f}x'.format(a, b))\n",
    "\n",
    "    return a,b\n",
    "# solve for a and b\n",
    "\n",
    "# y = a+bx\n",
    "# solution\n",
    "a, b = best_fit(X, Y)\n",
    "#best fit line:\n",
    "#y = 0.80 + 0.92x\n",
    "\n",
    "# plot points and fit line\n",
    "import matplotlib.pyplot as plt\n",
    "plt.scatter(X, Y)\n",
    "yfit = [a + b * xi for xi in X]\n",
    "plt.plot(X, yfit)\n",
    "plt.xlim(0,x2)\n",
    "plt.ylim(y1,y2)\n",
    "plt.show()"
   ]
  },
  {
   "cell_type": "code",
   "execution_count": 16,
   "metadata": {},
   "outputs": [
    {
     "name": "stdout",
     "output_type": "stream",
     "text": [
      "[(0, 173), (530, 141)]\n"
     ]
    }
   ],
   "source": [
    "def getends(a,b):\n",
    "    return [(0,int(a)),(530,int(a+b*530))]\n",
    "print (getends(a,b))"
   ]
  },
  {
   "cell_type": "code",
   "execution_count": 9,
   "metadata": {},
   "outputs": [
    {
     "data": {
      "text/plain": [
       "-0.06265118529269473"
      ]
     },
     "execution_count": 9,
     "metadata": {},
     "output_type": "execute_result"
    }
   ],
   "source": [
    "b"
   ]
  },
  {
   "cell_type": "code",
   "execution_count": null,
   "metadata": {},
   "outputs": [],
   "source": [
    "import numpy as np\n",
    "import cv2 as cv\n",
    " \n",
    "img = np.zeros((320, 320, 3), np.uint8) #生成一个空灰度图像\n",
    "print img.shape # 输出：(320, 320, 3)\n",
    "\n",
    "# 起点和终点的坐标\n",
    "ptStart = (60, 60)\n",
    "ptEnd = (260, 260)\n",
    "point_color = (0, 255, 0) # BGR\n",
    "thickness = 1 \n",
    "lineType = 4\n",
    "cv.line(img, ptStart, ptEnd, point_color, thickness, lineType)\n",
    "\n",
    "\n",
    "ptStart = (260, 60)\n",
    "ptEnd = (60, 260)\n",
    "point_color = (0, 0, 255) # BGR\n",
    "thickness = 1\n",
    "lineType = 8\n",
    "cv.line(img, ptStart, ptEnd, point_color, thickness, lineType)\n",
    "\n",
    "cv.namedWindow(\"image\")\n",
    "cv.imshow('image', img)\n",
    "cv.waitKey (10000) # 显示 10000 ms 即 10s 后消失\n",
    "cv.destroyAllWindows()"
   ]
  },
  {
   "cell_type": "code",
   "execution_count": 1,
   "metadata": {},
   "outputs": [],
   "source": [
    "import cv2\n",
    "import numpy as np\n",
    "#首帧获取\n",
    "video = cv2.VideoCapture(\"test.mp4\")\n",
    "success, photo = video.read()  \n",
    "\n",
    "cv2.imshow(\"new video\", photo)\n",
    "cv2.waitKey(0)\n",
    "cv2.destroyAllWindows()"
   ]
  },
  {
   "cell_type": "code",
   "execution_count": 9,
   "metadata": {},
   "outputs": [],
   "source": [
    "gray=photo[:,:,0].copy()"
   ]
  },
  {
   "cell_type": "code",
   "execution_count": 19,
   "metadata": {},
   "outputs": [
    {
     "name": "stdout",
     "output_type": "stream",
     "text": [
      "83\n"
     ]
    }
   ],
   "source": []
  },
  {
   "cell_type": "code",
   "execution_count": 12,
   "metadata": {},
   "outputs": [
    {
     "data": {
      "text/plain": [
       "(1080, 936)"
      ]
     },
     "execution_count": 12,
     "metadata": {},
     "output_type": "execute_result"
    }
   ],
   "source": [
    "gray.shape"
   ]
  },
  {
   "cell_type": "code",
   "execution_count": 148,
   "metadata": {},
   "outputs": [
    {
     "name": "stdout",
     "output_type": "stream",
     "text": [
      "87\n"
     ]
    }
   ],
   "source": [
    "for i in range(gray.shape[0]):\n",
    "    if sum([k>30 for k in gray[i]])>=300:\n",
    "        line=i\n",
    "        print(line)\n",
    "        break\n",
    "line=line+3\n",
    "# search for left boundry\n",
    "for k in range(len(gray[line])):\n",
    "    if gray[line][k]>=30:\n",
    "        lb=k\n",
    "        break\n",
    "# search for right boundry\n",
    "for k in range(len(gray[line]))[::-1]:\n",
    "    if gray[line][k]>=30:\n",
    "        rb=k\n",
    "        break\n",
    "    \n",
    "ptStart = (lb, line)\n",
    "ptEnd = (rb, line)\n",
    "point_color = (0, 0, 255) # BGR\n",
    "thickness = 1\n",
    "lineType = 8\n",
    "tmp=photo.copy()\n",
    "\n",
    "\n",
    "cv2.line(tmp, ptStart, ptEnd, (0, 0, 255),4)\n",
    "cv2.imshow('image', tmp)\n",
    "cv2.waitKey (0) \n",
    "cv2.destroyAllWindows()"
   ]
  },
  {
   "cell_type": "code",
   "execution_count": 49,
   "metadata": {},
   "outputs": [
    {
     "name": "stdout",
     "output_type": "stream",
     "text": [
      "195\n"
     ]
    }
   ],
   "source": [
    "print(rb)"
   ]
  },
  {
   "cell_type": "code",
   "execution_count": 53,
   "metadata": {},
   "outputs": [],
   "source": [
    "sphoto=photo[line:,lb:rb,:].copy()\n",
    "cv2.imshow('image', sphoto)\n",
    "cv2.waitKey (0) \n",
    "cv2.destroyAllWindows()"
   ]
  },
  {
   "cell_type": "code",
   "execution_count": 46,
   "metadata": {},
   "outputs": [
    {
     "data": {
      "text/plain": [
       "array([], shape=(1080, 0, 3), dtype=uint8)"
      ]
     },
     "execution_count": 46,
     "metadata": {},
     "output_type": "execute_result"
    }
   ],
   "source": [
    "sphoto"
   ]
  },
  {
   "cell_type": "code",
   "execution_count": 25,
   "metadata": {},
   "outputs": [],
   "source": [
    "cv2.imshow('image', gray[line+5:line+100])\n",
    "cv2.waitKey (0) \n",
    "cv2.destroyAllWindows()"
   ]
  },
  {
   "cell_type": "code",
   "execution_count": 35,
   "metadata": {},
   "outputs": [
    {
     "data": {
      "text/plain": [
       "544"
      ]
     },
     "execution_count": 35,
     "metadata": {},
     "output_type": "execute_result"
    }
   ],
   "source": [
    "sum([k>=20 for k in gray[line+5]])              "
   ]
  },
  {
   "cell_type": "code",
   "execution_count": 40,
   "metadata": {},
   "outputs": [
    {
     "data": {
      "text/plain": [
       "206"
      ]
     },
     "execution_count": 40,
     "metadata": {},
     "output_type": "execute_result"
    }
   ],
   "source": [
    "sum([k!=0 for k in gray[6]])           "
   ]
  },
  {
   "cell_type": "code",
   "execution_count": 57,
   "metadata": {},
   "outputs": [
    {
     "data": {
      "text/plain": [
       "(990, 540, 3)"
      ]
     },
     "execution_count": 57,
     "metadata": {},
     "output_type": "execute_result"
    }
   ],
   "source": [
    "tt.shape"
   ]
  },
  {
   "cell_type": "code",
   "execution_count": 54,
   "metadata": {},
   "outputs": [],
   "source": [
    "tt=sphoto.copy()"
   ]
  },
  {
   "cell_type": "code",
   "execution_count": 69,
   "metadata": {},
   "outputs": [],
   "source": [
    "tt=sphoto.copy()\n",
    "for j in range(tt.shape[0]):\n",
    "    for k in range(tt.shape[1]):\n",
    "        if tt[j,k,0]!=tt[j,k,1] or tt[j,k,0]!=tt[j,k,2] or tt[j,k,1]!=tt[j,k,2]:\n",
    "            cv2.putText(tt, 'o', (k,j), cv2.FONT_HERSHEY_SIMPLEX, 1, (0,0,255), 1)\n",
    "cv2.imshow('image', tt)\n",
    "cv2.waitKey (0) \n",
    "cv2.destroyAllWindows()"
   ]
  },
  {
   "cell_type": "code",
   "execution_count": 71,
   "metadata": {},
   "outputs": [],
   "source": [
    "##去除彩色水印\n",
    "tt=sphoto.copy()\n",
    "Erase_list=[]##复用于全部帧\n",
    "for j in range(tt.shape[0]):\n",
    "    for k in range(tt.shape[1]):\n",
    "        if tt[j,k,0]!=tt[j,k,1] or tt[j,k,0]!=tt[j,k,2] or tt[j,k,1]!=tt[j,k,2]:\n",
    "            tt[j,k,0]=tt[j,k,1]=tt[j,k,2]=0\n",
    "            Erase_list.append([j,k])\n",
    "cv2.imshow('image', tt)\n",
    "cv2.waitKey (0) \n",
    "cv2.destroyAllWindows()"
   ]
  },
  {
   "cell_type": "code",
   "execution_count": 63,
   "metadata": {},
   "outputs": [],
   "source": [
    "tt=sphoto.copy()\n",
    "depth=600\n",
    "cv2.line(tt, (0,depth),(tt.shape[1],depth ), (0, 0, 255))\n",
    "cv2.imshow('image', tt)\n",
    "cv2.waitKey (0) \n",
    "cv2.destroyAllWindows()"
   ]
  },
  {
   "cell_type": "code",
   "execution_count": 3,
   "metadata": {},
   "outputs": [
    {
     "name": "stdout",
     "output_type": "stream",
     "text": [
      "87\n"
     ]
    }
   ],
   "source": [
    "import cv2\n",
    "import numpy as np\n",
    "#首帧获取\n",
    "video = cv2.VideoCapture(\"test.mp4\")\n",
    "success, photo = video.read()  \n",
    "video = 0\n",
    "gray=photo[:,:,0]\n",
    "##搜索RI\n",
    "for i in range(gray.shape[0]):\n",
    "    if sum([k>30 for k in gray[i]])>=300:\n",
    "        line=i\n",
    "        print(line)\n",
    "        break\n",
    "line=line+3\n",
    "# search for left boundry\n",
    "for k in range(len(gray[line])):\n",
    "    if gray[line][k]>=30:\n",
    "        lb=k\n",
    "        break\n",
    "# search for right boundry\n",
    "for k in range(len(gray[line]))[::-1]:\n",
    "    if gray[line][k]>=30:\n",
    "        rb=k\n",
    "        break\n",
    "##去除彩色水印\n",
    "tt=photo.copy()\n",
    "Erase_list=[]##复用于全部帧\n",
    "for j in range(tt.shape[0]):\n",
    "    for k in range(tt.shape[1]):\n",
    "        if tt[j,k,0]!=tt[j,k,1] or tt[j,k,0]!=tt[j,k,2] or tt[j,k,1]!=tt[j,k,2]:\n",
    "            Erase_list.append([j,k])\n",
    "depth=line\n",
    "\n"
   ]
  },
  {
   "cell_type": "code",
   "execution_count": 1,
   "metadata": {},
   "outputs": [],
   "source": [
    "def best_fit(X, Y):\n",
    "\n",
    "    xbar = sum(X)/len(X)\n",
    "    ybar = sum(Y)/len(Y)\n",
    "    n = len(X) # or len(Y)\n",
    "\n",
    "    numer = sum([xi*yi for xi,yi in zip(X, Y)]) - n * xbar * ybar\n",
    "    denum = sum([xi**2 for xi in X]) - n * xbar**2\n",
    "\n",
    "    b = np.round(numer / denum,2)\n",
    "    a = np.round(ybar - b * xbar,2)\n",
    "\n",
    "    return a,b"
   ]
  },
  {
   "cell_type": "code",
   "execution_count": 1,
   "metadata": {},
   "outputs": [
    {
     "ename": "NameError",
     "evalue": "name 'depth' is not defined",
     "output_type": "error",
     "traceback": [
      "\u001b[1;31m---------------------------------------------------------------------------\u001b[0m",
      "\u001b[1;31mNameError\u001b[0m                                 Traceback (most recent call last)",
      "\u001b[1;32m<ipython-input-1-305815d8b288>\u001b[0m in \u001b[0;36m<module>\u001b[1;34m\u001b[0m\n\u001b[0;32m     14\u001b[0m \u001b[1;33m\u001b[0m\u001b[0m\n\u001b[0;32m     15\u001b[0m \u001b[0msuccess\u001b[0m\u001b[1;33m,\u001b[0m \u001b[0mframe\u001b[0m \u001b[1;33m=\u001b[0m \u001b[0mvideo\u001b[0m\u001b[1;33m.\u001b[0m\u001b[0mread\u001b[0m\u001b[1;33m(\u001b[0m\u001b[1;33m)\u001b[0m\u001b[1;33m\u001b[0m\u001b[1;33m\u001b[0m\u001b[0m\n\u001b[1;32m---> 16\u001b[1;33m \u001b[0mimg\u001b[0m \u001b[1;33m=\u001b[0m \u001b[0mframe\u001b[0m\u001b[1;33m[\u001b[0m\u001b[0mdepth\u001b[0m\u001b[1;33m:\u001b[0m\u001b[1;33m,\u001b[0m\u001b[0mlb\u001b[0m\u001b[1;33m:\u001b[0m\u001b[0mrb\u001b[0m\u001b[1;33m,\u001b[0m\u001b[1;36m0\u001b[0m\u001b[1;33m]\u001b[0m\u001b[1;33m.\u001b[0m\u001b[0mcopy\u001b[0m\u001b[1;33m(\u001b[0m\u001b[1;33m)\u001b[0m\u001b[1;33m\u001b[0m\u001b[1;33m\u001b[0m\u001b[0m\n\u001b[0m\u001b[0;32m     17\u001b[0m \u001b[0mframe\u001b[0m \u001b[1;33m=\u001b[0m  \u001b[0mframe\u001b[0m\u001b[1;33m[\u001b[0m\u001b[0mdepth\u001b[0m\u001b[1;33m:\u001b[0m\u001b[1;33m,\u001b[0m\u001b[0mlb\u001b[0m\u001b[1;33m:\u001b[0m\u001b[0mrb\u001b[0m\u001b[1;33m,\u001b[0m\u001b[1;36m0\u001b[0m\u001b[1;33m]\u001b[0m\u001b[1;33m\u001b[0m\u001b[1;33m\u001b[0m\u001b[0m\n\u001b[0;32m     18\u001b[0m \u001b[1;33m\u001b[0m\u001b[0m\n",
      "\u001b[1;31mNameError\u001b[0m: name 'depth' is not defined"
     ]
    }
   ],
   "source": [
    "import cv2\n",
    "import numpy as np\n",
    "from scipy.interpolate import spline\n",
    "import matplotlib.pyplot as plt\n",
    "import sys\n",
    "\n",
    "\n",
    "video = cv2.VideoCapture(\"test.mp4\")\n",
    "\n",
    "fps = video.get(cv2.CAP_PROP_FPS)\n",
    "size = (int(video.get(cv2.CAP_PROP_FRAME_WIDTH)), int(video.get(cv2.CAP_PROP_FRAME_HEIGHT)))\n",
    "\n",
    "videoWriter = cv2.VideoWriter('testout2.mp4', cv2.VideoWriter_fourcc(*'MP4V'), 4, size)  \n",
    "\n",
    "success, frame = video.read()  \n",
    "img = frame[depth:,lb:rb,0].copy()\n",
    "frame =  frame[depth:,lb:rb,0]\n",
    "\n",
    "index = 1\n",
    "thr=90\n",
    "num_section=15\n",
    "len_section=np.floor((rb-lb)/num_section).astype(int)\n",
    "\n",
    "while success:  \n",
    "    if index%5==0:\n",
    "        wst,frame=cv2.threshold(frame,thr,255,0)\n",
    "\n",
    "        B=[]\n",
    "        for i in range(num_section):\n",
    "            tmp=frame[:,0+i*len_section:(i+1)*len_section]\n",
    "            total = sum([sum(i) for i in tmp])\n",
    "            count=0\n",
    "            for idx,lice in enumerate(tmp):\n",
    "                count+=sum(lice)\n",
    "                if count>=total/2:\n",
    "                    if True:\n",
    "                    ##异常值处理\n",
    "#                     if idx>=20:\n",
    "                        B.append([(i+0.5)*len_section,idx])\n",
    "                    break\n",
    "        \n",
    "        for pos in B:\n",
    "            cv2.putText(img, 'o', (int(pos[0]),int(pos[1])), cv2.FONT_HERSHEY_SIMPLEX, 1, (0,255,0), 1)\n",
    "        X = [i[0] for i in B]\n",
    "        Y = [i[1] for i in B]\n",
    "        \n",
    "        xs = np.linspace(1,rb-lb,rb-lb).astype(int)\n",
    "        ys = [ int(i) for i in spline(X, Y, xs)]\n",
    "        \n",
    "        for i,(x,y) in enumerate(zip(xs,ys)):\n",
    "            if i>=rb-lb-10:\n",
    "                break\n",
    "            cv2.line(img, (x,y),(xs[i+1],ys[i+1]),255)\n",
    "        mid=np.floor(len(X)/2).astype(int)\n",
    "        \n",
    "        a,b=best_fit(X,Y)\n",
    "        p=[(0,int(a)),(rb-lb,int(a+b*(rb-lb)))]\n",
    "        cv2.line(img, p[0], p[1], (0, 0, 255))\n",
    "\n",
    "\n",
    "        videoWriter.write(cv2.resize(img, size))\n",
    "\n",
    "        cv2.imshow(\"new video\", img)\n",
    "        cv2.waitKey(int(1000 / int(fps)))\n",
    "    success, frame = video.read()\n",
    "    index += 1\n",
    "    if success and index%5==0:\n",
    "        ##Erase watermark\n",
    "        for pos in Erase_list:\n",
    "            frame[pos[0],pos[1],0]=frame[pos[0],pos[1],1]=frame[pos[0],pos[1],2]=0\n",
    "        img = frame[depth:,lb:rb].copy()\n",
    "        frame =  frame[depth:,lb:rb,0] \n",
    "\n",
    "                \n",
    "video.release()\n",
    "videoWriter.release()\n",
    "cv2.destroyAllWindows()"
   ]
  },
  {
   "cell_type": "code",
   "execution_count": 9,
   "metadata": {},
   "outputs": [
    {
     "name": "stdout",
     "output_type": "stream",
     "text": [
      "87\n"
     ]
    },
    {
     "name": "stderr",
     "output_type": "stream",
     "text": [
      "D:\\Anaconda\\lib\\site-packages\\ipykernel_launcher.py:95: DeprecationWarning: `spline` is deprecated!\n",
      "spline is deprecated in scipy 0.19.0, use Bspline class instead.\n"
     ]
    },
    {
     "name": "stdout",
     "output_type": "stream",
     "text": [
      "[[18.0, 145], [54.0, 126], [90.0, 118], [126.0, 0], [162.0, 0], [198.0, 0], [234.0, 0], [270.0, 0], [306.0, 0], [342.0, 0], [378.0, 44], [414.0, 9], [450.0, 134], [486.0, 112], [522.0, 158]]\n"
     ]
    }
   ],
   "source": [
    "import json\n",
    "import numpy as np\n",
    "import os\n",
    "import time\n",
    "import cv2\n",
    "\n",
    "posl=[]\n",
    "\n",
    "def best_fit(X, Y):\n",
    "\n",
    "    xbar = sum(X)/len(X)\n",
    "    ybar = sum(Y)/len(Y)\n",
    "    n = len(X) # or len(Y)\n",
    "\n",
    "    numer = sum([xi*yi for xi,yi in zip(X, Y)]) - n * xbar * ybar\n",
    "    denum = sum([xi**2 for xi in X]) - n * xbar**2\n",
    "\n",
    "    b = np.round(numer / denum,2)\n",
    "    a = np.round(ybar - b * xbar,2)\n",
    "\n",
    "    return a,b\n",
    "\n",
    "\n",
    "def make(file):\n",
    "    # 首帧获取\n",
    "    video = cv2.VideoCapture(file)\n",
    "    success, photo = video.read()\n",
    "    video.release()\n",
    "    origin= photo.copy()\n",
    "    photo=photo[:,:,0]\n",
    "    ##搜索RI\n",
    "    for i in range(photo.shape[0]):\n",
    "        if sum([k > 30 for k in photo[i]]) >= 300:\n",
    "            line = i\n",
    "            print(line)\n",
    "            break\n",
    "    line = line + 3\n",
    "    # search for left boundry\n",
    "    for k in range(len(photo[line])):\n",
    "        if photo[line][k] >= 30:\n",
    "            lb = k\n",
    "            break\n",
    "    # search for right boundry\n",
    "    for k in range(len(photo[line]))[::-1]:\n",
    "        if photo[line][k] >= 30:\n",
    "            rb = k\n",
    "            break\n",
    "    ##去除彩色水印\n",
    "    tt = origin.copy()\n",
    "    Erase_list = []  ##复用于全部帧\n",
    "    for j in range(tt.shape[0]):\n",
    "        for k in range(tt.shape[1]):\n",
    "            if tt[j, k, 0] != tt[j, k, 1] or tt[j, k, 0] != tt[j, k, 2] or tt[j, k, 1] != tt[j, k, 2]:\n",
    "                Erase_list.append([j, k])\n",
    "    depth = line\n",
    "\n",
    "    video = cv2.VideoCapture(file)\n",
    "    size = (int(video.get(cv2.CAP_PROP_FRAME_WIDTH)), int(video.get(cv2.CAP_PROP_FRAME_HEIGHT)))\n",
    "    videoWriter = cv2.VideoWriter(file[:-4] + \"out.mp4\", cv2.VideoWriter_fourcc(*'MP4V'), 4, size)\n",
    "\n",
    "    success, frame = video.read()\n",
    "    img = frame[depth:, lb:rb, 0].copy()\n",
    "    frame = frame[depth:, lb:rb, 0]\n",
    "\n",
    "    index = 1\n",
    "    thr = 90\n",
    "    num_section = 15\n",
    "    len_section = np.floor((rb - lb) / num_section).astype(int)\n",
    "\n",
    "    while success:\n",
    "        # compute 1/5 frames\n",
    "        if index % 5 == 0:\n",
    "            wst, frame = cv2.threshold(frame, thr, 255, 0)\n",
    "\n",
    "            B = []\n",
    "            for i in range(num_section):\n",
    "                tmp=frame[:,0+i*len_section:(i+1)*len_section]\n",
    "                total = sum([sum(i) for i in tmp])\n",
    "                count=0\n",
    "                for idx,lice in enumerate(tmp):\n",
    "                    count+=sum(lice)\n",
    "                    if count>=total/2:\n",
    "                        if True:\n",
    "                        ##异常值处理\n",
    "    #                     if idx>=20:\n",
    "                            B.append([(i+0.5)*len_section,idx])\n",
    "                        break\n",
    "            #reg pos\n",
    "            median= B[len(B)]\n",
    "            \n",
    "            \n",
    "            \n",
    "            for pos in B:\n",
    "                cv2.putText(img, 'o', (int(pos[0]),int(pos[1])), cv2.FONT_HERSHEY_SIMPLEX, 1, (0,255,0), 1)\n",
    "\n",
    "            X = [i[0] for i in B]\n",
    "            Y = [i[1] for i in B]\n",
    "            xs = np.linspace(1,rb-lb,rb-lb).astype(int)\n",
    "            ys = [ int(i) for i in spline(X, Y, xs)]\n",
    "\n",
    "            for i,(x,y) in enumerate(zip(xs,ys)):\n",
    "                if i>=rb-lb-10:\n",
    "                    break\n",
    "                cv2.line(img, (x,y),(xs[i+1],ys[i+1]),255)\n",
    "            mid=np.floor(len(X)/2).astype(int)\n",
    "\n",
    "            a,b=best_fit(X,Y)\n",
    "            p=[(0,int(a)),(rb-lb,int(a+b*(rb-lb)))]\n",
    "            cv2.line(img, p[0], p[1], (0, 0, 255))\n",
    "\n",
    "\n",
    "            videoWriter.write(cv2.resize(img, size))\n",
    "\n",
    "            cv2.imshow(\"new video\", img)\n",
    "            cv2.waitKey(int(1000 / int(fps)))\n",
    "\n",
    "        success, frame = video.read()\n",
    "        index += 1\n",
    "        if success and index % 5 == 0:\n",
    "            ##Erase watermark\n",
    "            for pos in Erase_list:\n",
    "                frame[pos[0], pos[1], 0] = frame[pos[0], pos[1], 1] = frame[pos[0], pos[1], 2] = 0\n",
    "            img = frame[depth:, lb:rb].copy()\n",
    "            frame = frame[depth:, lb:rb, 0]\n",
    "\n",
    "    video.release()\n",
    "    videoWriter.release()\n",
    "    cv2.destroyAllWindows()\n",
    "    \n",
    "make(\"test.mp4\")\n",
    "\n",
    "\n",
    "##### ATTENTION HERE\n",
    "# dir_path = 'studies0-10'\n",
    "# dir_path = 'C:/Users/Luka/Desktop/studies0-10/'\n",
    "\n",
    "\n",
    "# ly1 = [str(i).zfill(3) for i in range(1, 11)]\n",
    "# ly2 = [\"LAS\", \"LAT\", \"LLS\", 'LLT', 'LPS', 'RAS', 'RAT', 'RLS', 'RLT', 'RPS', 'RPT']\n",
    "\n",
    "# for j in ly1[5:]:\n",
    "#     for k in ly2:\n",
    "#         start = time.time()\n",
    "#         cur_path = dir_path + j + \"/\" + k + \"/clip/\" + k + \".mp4\"\n",
    "#         print(cur_path)\n",
    "#         if not os.path.isfile(cur_path):\n",
    "#             print(\"file not existed\")\n",
    "#             continue\n",
    "#         if  not os.path.isfile(cur_path[:-4]+\"out.mp4\"):\n",
    "#             make(cur_path)\n",
    "#         else:\n",
    "#             print(\"already has output\")\n",
    "#         end = time.time()\n",
    "#         print('Running time: %s Seconds' % (end - start))\n"
   ]
  },
  {
   "cell_type": "code",
   "execution_count": 14,
   "metadata": {},
   "outputs": [],
   "source": [
    "posl=[[18.0, 145], [54.0, 126], [90.0, 118], [126.0, 0], [162.0, 0], [198.0, 0], [234.0, 0], [270.0, 0], [306.0, 0], [342.0, 0], [378.0, 44], [414.0, 9], [450.0, 134], [486.0, 112], [522.0, 158]]"
   ]
  },
  {
   "cell_type": "code",
   "execution_count": 15,
   "metadata": {},
   "outputs": [
    {
     "name": "stdout",
     "output_type": "stream",
     "text": [
      "[[126.0, 0], [162.0, 0], [198.0, 0], [234.0, 0], [270.0, 0], [306.0, 0], [342.0, 0], [414.0, 9], [378.0, 44], [486.0, 112], [90.0, 118], [54.0, 126], [450.0, 134], [18.0, 145], [522.0, 158]]\n"
     ]
    }
   ],
   "source": [
    "print(sorted(posl,key=lambda x:x[1]))"
   ]
  },
  {
   "cell_type": "code",
   "execution_count": 40,
   "metadata": {},
   "outputs": [
    {
     "name": "stdout",
     "output_type": "stream",
     "text": [
      "[ 1.          1.18367347  1.36734694  1.55102041  1.73469388  1.91836735\n",
      "  2.10204082  2.28571429  2.46938776  2.65306122  2.83673469  3.02040816\n",
      "  3.20408163  3.3877551   3.57142857  3.75510204  3.93877551  4.12244898\n",
      "  4.30612245  4.48979592  4.67346939  4.85714286  5.04081633  5.2244898\n",
      "  5.40816327  5.59183673  5.7755102   5.95918367  6.14285714  6.32653061\n",
      "  6.51020408  6.69387755  6.87755102  7.06122449  7.24489796  7.42857143\n",
      "  7.6122449   7.79591837  7.97959184  8.16326531  8.34693878  8.53061224\n",
      "  8.71428571  8.89795918  9.08163265  9.26530612  9.44897959  9.63265306\n",
      "  9.81632653 10.        ]\n",
      "[ 1.  2.  3.  4.  5.  6.  7.  8.  9. 10.]\n"
     ]
    }
   ],
   "source": [
    "x1 = np.linspace(1,10)\n",
    "\n",
    "x2 = np.linspace(1,10,10)\n",
    "\n",
    "print(x1)\n",
    "\n",
    "print(x2)"
   ]
  },
  {
   "cell_type": "code",
   "execution_count": 23,
   "metadata": {},
   "outputs": [
    {
     "data": {
      "text/plain": [
       "(990, 540, 3)"
      ]
     },
     "execution_count": 23,
     "metadata": {},
     "output_type": "execute_result"
    }
   ],
   "source": [
    "img.shape"
   ]
  },
  {
   "cell_type": "code",
   "execution_count": 21,
   "metadata": {},
   "outputs": [
    {
     "name": "stderr",
     "output_type": "stream",
     "text": [
      "D:\\Anaconda\\lib\\site-packages\\ipykernel_launcher.py:7: DeprecationWarning: `spline` is deprecated!\n",
      "spline is deprecated in scipy 0.19.0, use Bspline class instead.\n",
      "  import sys\n"
     ]
    },
    {
     "data": {
      "image/png": "[encoded data removed]",
      "text/plain": [
       "<Figure size 432x288 with 1 Axes>"
      ]
     },
     "metadata": {
      "needs_background": "light"
     },
     "output_type": "display_data"
    }
   ],
   "source": [
    "from scipy.interpolate import spline\n",
    "import matplotlib.pyplot as plt\n",
    "import sys\n",
    "\n",
    "x_new = np.linspace(1,540,1) \n",
    " \n",
    "y_smooth = spline(X, Y, x_new)\n",
    " \n",
    "plt.plot(x_new, y_smooth)\n",
    " \n",
    "plt.show()"
   ]
  },
  {
   "cell_type": "code",
   "execution_count": 151,
   "metadata": {},
   "outputs": [
    {
     "name": "stdout",
     "output_type": "stream",
     "text": [
      "Running time: 0.0004791000028490089 Seconds\n"
     ]
    },
    {
     "name": "stderr",
     "output_type": "stream",
     "text": [
      "D:\\Anaconda\\lib\\site-packages\\ipykernel_launcher.py:3: DeprecationWarning: time.clock has been deprecated in Python 3.3 and will be removed from Python 3.8: use time.perf_counter or time.process_time instead\n",
      "  This is separate from the ipykernel package so we can avoid doing imports until\n",
      "D:\\Anaconda\\lib\\site-packages\\ipykernel_launcher.py:5: DeprecationWarning: time.clock has been deprecated in Python 3.3 and will be removed from Python 3.8: use time.perf_counter or time.process_time instead\n",
      "  \"\"\"\n"
     ]
    }
   ],
   "source": [
    "import time \n",
    "\n",
    "start = time.clock() \n",
    "\n",
    "end = time.clock()\n",
    "print('Running time: %s Seconds' % (end - start))"
   ]
  },
  {
   "cell_type": "code",
   "execution_count": 163,
   "metadata": {},
   "outputs": [
    {
     "name": "stdout",
     "output_type": "stream",
     "text": [
      "C:/Users/Luka/Desktop/studies0-10/001/LAS/clip/LAS.mp4\n",
      "Running time: 8.227301597595215 Seconds\n",
      "C:/Users/Luka/Desktop/studies0-10/001/LAT/clip/LAT.mp4\n",
      "Running time: 8.437468767166138 Seconds\n",
      "C:/Users/Luka/Desktop/studies0-10/001/LLS/clip/LLS.mp4\n",
      "Running time: 7.628360748291016 Seconds\n",
      "C:/Users/Luka/Desktop/studies0-10/001/LLT/clip/LLT.mp4\n",
      "Running time: 9.944742679595947 Seconds\n",
      "C:/Users/Luka/Desktop/studies0-10/001/LPS/clip/LPS.mp4\n",
      "Running time: 10.504130840301514 Seconds\n",
      "C:/Users/Luka/Desktop/studies0-10/001/RAS/clip/RAS.mp4\n",
      "Running time: 7.613209962844849 Seconds\n",
      "C:/Users/Luka/Desktop/studies0-10/001/RAT/clip/RAT.mp4\n",
      "Running time: 9.275869369506836 Seconds\n",
      "C:/Users/Luka/Desktop/studies0-10/001/RLS/clip/RLS.mp4\n",
      "Running time: 8.001325130462646 Seconds\n",
      "C:/Users/Luka/Desktop/studies0-10/001/RLT/clip/RLT.mp4\n",
      "Running time: 8.152934312820435 Seconds\n",
      "C:/Users/Luka/Desktop/studies0-10/001/RPS/clip/RPS.mp4\n",
      "Running time: 12.793408632278442 Seconds\n",
      "C:/Users/Luka/Desktop/studies0-10/001/RPT/clip/RPT.mp4\n",
      "Running time: 10.23540472984314 Seconds\n",
      "C:/Users/Luka/Desktop/studies0-10/002/LAS/clip/LAS.mp4\n",
      "Running time: 12.191612482070923 Seconds\n",
      "C:/Users/Luka/Desktop/studies0-10/002/LAT/clip/LAT.mp4\n",
      "Running time: 12.867232084274292 Seconds\n",
      "C:/Users/Luka/Desktop/studies0-10/002/LLS/clip/LLS.mp4\n",
      "Running time: 8.206528902053833 Seconds\n",
      "C:/Users/Luka/Desktop/studies0-10/002/LLT/clip/LLT.mp4\n",
      "Running time: 12.61303997039795 Seconds\n",
      "C:/Users/Luka/Desktop/studies0-10/002/LPS/clip/LPS.mp4\n",
      "Running time: 21.080819129943848 Seconds\n",
      "C:/Users/Luka/Desktop/studies0-10/002/RAS/clip/RAS.mp4\n",
      "Running time: 16.447550773620605 Seconds\n",
      "C:/Users/Luka/Desktop/studies0-10/002/RAT/clip/RAT.mp4\n",
      "Running time: 20.51444101333618 Seconds\n",
      "C:/Users/Luka/Desktop/studies0-10/002/RLS/clip/RLS.mp4\n",
      "Running time: 8.752833127975464 Seconds\n",
      "C:/Users/Luka/Desktop/studies0-10/002/RLT/clip/RLT.mp4\n",
      "Running time: 10.611058712005615 Seconds\n",
      "C:/Users/Luka/Desktop/studies0-10/002/RPS/clip/RPS.mp4\n",
      "Running time: 14.768820762634277 Seconds\n",
      "C:/Users/Luka/Desktop/studies0-10/002/RPT/clip/RPT.mp4\n",
      "Running time: 17.97688913345337 Seconds\n",
      "C:/Users/Luka/Desktop/studies0-10/003/LAS/clip/LAS.mp4\n",
      "Running time: 9.806987762451172 Seconds\n",
      "C:/Users/Luka/Desktop/studies0-10/003/LAT/clip/LAT.mp4\n",
      "Running time: 9.466999292373657 Seconds\n",
      "C:/Users/Luka/Desktop/studies0-10/003/LLS/clip/LLS.mp4\n",
      "Running time: 12.924390077590942 Seconds\n",
      "C:/Users/Luka/Desktop/studies0-10/003/LLT/clip/LLT.mp4\n",
      "Running time: 10.740833282470703 Seconds\n",
      "C:/Users/Luka/Desktop/studies0-10/003/LPS/clip/LPS.mp4\n",
      "Running time: 8.653578042984009 Seconds\n",
      "C:/Users/Luka/Desktop/studies0-10/003/RAS/clip/RAS.mp4\n",
      "Running time: 8.734582901000977 Seconds\n",
      "C:/Users/Luka/Desktop/studies0-10/003/RAT/clip/RAT.mp4\n",
      "Running time: 9.75580620765686 Seconds\n",
      "C:/Users/Luka/Desktop/studies0-10/003/RLS/clip/RLS.mp4\n",
      "Running time: 7.058431625366211 Seconds\n",
      "C:/Users/Luka/Desktop/studies0-10/003/RLT/clip/RLT.mp4\n",
      "Running time: 7.5922017097473145 Seconds\n",
      "C:/Users/Luka/Desktop/studies0-10/003/RPS/clip/RPS.mp4\n",
      "Running time: 14.441480159759521 Seconds\n",
      "C:/Users/Luka/Desktop/studies0-10/003/RPT/clip/RPT.mp4\n",
      "Running time: 9.972522974014282 Seconds\n",
      "C:/Users/Luka/Desktop/studies0-10/004/LAS/clip/LAS.mp4\n",
      "Running time: 11.170276165008545 Seconds\n",
      "C:/Users/Luka/Desktop/studies0-10/004/LAT/clip/LAT.mp4\n"
     ]
    },
    {
     "ename": "KeyboardInterrupt",
     "evalue": "",
     "output_type": "error",
     "traceback": [
      "\u001b[1;31m---------------------------------------------------------------------------\u001b[0m",
      "\u001b[1;31mKeyboardInterrupt\u001b[0m                         Traceback (most recent call last)",
      "\u001b[1;32m<ipython-input-163-9961c5db1de8>\u001b[0m in \u001b[0;36m<module>\u001b[1;34m\u001b[0m\n\u001b[0;32m     15\u001b[0m         \u001b[0mcur_path\u001b[0m\u001b[1;33m=\u001b[0m\u001b[0mdir_path\u001b[0m\u001b[1;33m+\u001b[0m\u001b[0mj\u001b[0m\u001b[1;33m+\u001b[0m\u001b[1;34m\"/\"\u001b[0m\u001b[1;33m+\u001b[0m\u001b[0mk\u001b[0m\u001b[1;33m+\u001b[0m\u001b[1;34m\"/clip/\"\u001b[0m\u001b[1;33m+\u001b[0m\u001b[0mk\u001b[0m\u001b[1;33m+\u001b[0m\u001b[1;34m\".mp4\"\u001b[0m\u001b[1;33m\u001b[0m\u001b[1;33m\u001b[0m\u001b[0m\n\u001b[0;32m     16\u001b[0m         \u001b[0mprint\u001b[0m\u001b[1;33m(\u001b[0m\u001b[0mcur_path\u001b[0m\u001b[1;33m)\u001b[0m\u001b[1;33m\u001b[0m\u001b[1;33m\u001b[0m\u001b[0m\n\u001b[1;32m---> 17\u001b[1;33m         \u001b[0mmake\u001b[0m\u001b[1;33m(\u001b[0m\u001b[0mcur_path\u001b[0m\u001b[1;33m)\u001b[0m\u001b[1;33m\u001b[0m\u001b[1;33m\u001b[0m\u001b[0m\n\u001b[0m\u001b[0;32m     18\u001b[0m         \u001b[0mend\u001b[0m \u001b[1;33m=\u001b[0m \u001b[0mtime\u001b[0m\u001b[1;33m.\u001b[0m\u001b[0mtime\u001b[0m\u001b[1;33m(\u001b[0m\u001b[1;33m)\u001b[0m\u001b[1;33m\u001b[0m\u001b[1;33m\u001b[0m\u001b[0m\n\u001b[0;32m     19\u001b[0m         \u001b[0mprint\u001b[0m\u001b[1;33m(\u001b[0m\u001b[1;34m'Running time: %s Seconds'\u001b[0m \u001b[1;33m%\u001b[0m \u001b[1;33m(\u001b[0m\u001b[0mend\u001b[0m \u001b[1;33m-\u001b[0m \u001b[0mstart\u001b[0m\u001b[1;33m)\u001b[0m\u001b[1;33m)\u001b[0m\u001b[1;33m\u001b[0m\u001b[1;33m\u001b[0m\u001b[0m\n",
      "\u001b[1;32m<ipython-input-153-63d00a930488>\u001b[0m in \u001b[0;36mmake\u001b[1;34m(file)\u001b[0m\n\u001b[0;32m     25\u001b[0m             \u001b[1;32mfor\u001b[0m \u001b[0mi\u001b[0m \u001b[1;32min\u001b[0m \u001b[0mrange\u001b[0m\u001b[1;33m(\u001b[0m\u001b[0mnum_section\u001b[0m\u001b[1;33m)\u001b[0m\u001b[1;33m:\u001b[0m\u001b[1;33m\u001b[0m\u001b[1;33m\u001b[0m\u001b[0m\n\u001b[0;32m     26\u001b[0m                 \u001b[0mtmp\u001b[0m\u001b[1;33m=\u001b[0m\u001b[0mframe\u001b[0m\u001b[1;33m[\u001b[0m\u001b[1;33m:\u001b[0m\u001b[1;33m,\u001b[0m\u001b[1;36m0\u001b[0m\u001b[1;33m+\u001b[0m\u001b[0mi\u001b[0m\u001b[1;33m*\u001b[0m\u001b[0mlen_section\u001b[0m\u001b[1;33m:\u001b[0m\u001b[1;33m(\u001b[0m\u001b[0mi\u001b[0m\u001b[1;33m+\u001b[0m\u001b[1;36m1\u001b[0m\u001b[1;33m)\u001b[0m\u001b[1;33m*\u001b[0m\u001b[0mlen_section\u001b[0m\u001b[1;33m]\u001b[0m\u001b[1;33m\u001b[0m\u001b[1;33m\u001b[0m\u001b[0m\n\u001b[1;32m---> 27\u001b[1;33m                 \u001b[0mtotal\u001b[0m \u001b[1;33m=\u001b[0m \u001b[0msum\u001b[0m\u001b[1;33m(\u001b[0m\u001b[1;33m[\u001b[0m\u001b[0msum\u001b[0m\u001b[1;33m(\u001b[0m\u001b[0mi\u001b[0m\u001b[1;33m)\u001b[0m \u001b[1;32mfor\u001b[0m \u001b[0mi\u001b[0m \u001b[1;32min\u001b[0m \u001b[0mtmp\u001b[0m\u001b[1;33m]\u001b[0m\u001b[1;33m)\u001b[0m\u001b[1;33m\u001b[0m\u001b[1;33m\u001b[0m\u001b[0m\n\u001b[0m\u001b[0;32m     28\u001b[0m                 \u001b[0mcount\u001b[0m\u001b[1;33m=\u001b[0m\u001b[1;36m0\u001b[0m\u001b[1;33m\u001b[0m\u001b[1;33m\u001b[0m\u001b[0m\n\u001b[0;32m     29\u001b[0m                 \u001b[1;32mfor\u001b[0m \u001b[0midx\u001b[0m\u001b[1;33m,\u001b[0m\u001b[0mlice\u001b[0m \u001b[1;32min\u001b[0m \u001b[0menumerate\u001b[0m\u001b[1;33m(\u001b[0m\u001b[0mtmp\u001b[0m\u001b[1;33m)\u001b[0m\u001b[1;33m:\u001b[0m\u001b[1;33m\u001b[0m\u001b[1;33m\u001b[0m\u001b[0m\n",
      "\u001b[1;32m<ipython-input-153-63d00a930488>\u001b[0m in \u001b[0;36m<listcomp>\u001b[1;34m(.0)\u001b[0m\n\u001b[0;32m     25\u001b[0m             \u001b[1;32mfor\u001b[0m \u001b[0mi\u001b[0m \u001b[1;32min\u001b[0m \u001b[0mrange\u001b[0m\u001b[1;33m(\u001b[0m\u001b[0mnum_section\u001b[0m\u001b[1;33m)\u001b[0m\u001b[1;33m:\u001b[0m\u001b[1;33m\u001b[0m\u001b[1;33m\u001b[0m\u001b[0m\n\u001b[0;32m     26\u001b[0m                 \u001b[0mtmp\u001b[0m\u001b[1;33m=\u001b[0m\u001b[0mframe\u001b[0m\u001b[1;33m[\u001b[0m\u001b[1;33m:\u001b[0m\u001b[1;33m,\u001b[0m\u001b[1;36m0\u001b[0m\u001b[1;33m+\u001b[0m\u001b[0mi\u001b[0m\u001b[1;33m*\u001b[0m\u001b[0mlen_section\u001b[0m\u001b[1;33m:\u001b[0m\u001b[1;33m(\u001b[0m\u001b[0mi\u001b[0m\u001b[1;33m+\u001b[0m\u001b[1;36m1\u001b[0m\u001b[1;33m)\u001b[0m\u001b[1;33m*\u001b[0m\u001b[0mlen_section\u001b[0m\u001b[1;33m]\u001b[0m\u001b[1;33m\u001b[0m\u001b[1;33m\u001b[0m\u001b[0m\n\u001b[1;32m---> 27\u001b[1;33m                 \u001b[0mtotal\u001b[0m \u001b[1;33m=\u001b[0m \u001b[0msum\u001b[0m\u001b[1;33m(\u001b[0m\u001b[1;33m[\u001b[0m\u001b[0msum\u001b[0m\u001b[1;33m(\u001b[0m\u001b[0mi\u001b[0m\u001b[1;33m)\u001b[0m \u001b[1;32mfor\u001b[0m \u001b[0mi\u001b[0m \u001b[1;32min\u001b[0m \u001b[0mtmp\u001b[0m\u001b[1;33m]\u001b[0m\u001b[1;33m)\u001b[0m\u001b[1;33m\u001b[0m\u001b[1;33m\u001b[0m\u001b[0m\n\u001b[0m\u001b[0;32m     28\u001b[0m                 \u001b[0mcount\u001b[0m\u001b[1;33m=\u001b[0m\u001b[1;36m0\u001b[0m\u001b[1;33m\u001b[0m\u001b[1;33m\u001b[0m\u001b[0m\n\u001b[0;32m     29\u001b[0m                 \u001b[1;32mfor\u001b[0m \u001b[0midx\u001b[0m\u001b[1;33m,\u001b[0m\u001b[0mlice\u001b[0m \u001b[1;32min\u001b[0m \u001b[0menumerate\u001b[0m\u001b[1;33m(\u001b[0m\u001b[0mtmp\u001b[0m\u001b[1;33m)\u001b[0m\u001b[1;33m:\u001b[0m\u001b[1;33m\u001b[0m\u001b[1;33m\u001b[0m\u001b[0m\n",
      "\u001b[1;31mKeyboardInterrupt\u001b[0m: "
     ]
    }
   ],
   "source": [
    "import json\n",
    "import pandas as pd\n",
    "import numpy as np\n",
    "import os\n",
    "\n",
    "train_data=[]\n",
    "\n",
    "dir_path = 'C:/Users/Luka/Desktop/studies0-10/'\n",
    "ly1=[str(i).zfill(3) for i in range(1,11)]\n",
    "ly2=[\"LAS\",\"LAT\",\"LLS\",'LLT','LPS','RAS','RAT','RLS','RLT','RPS','RPT']\n",
    "\n",
    "\n",
    "\n",
    "\n",
    "for j in ly1:\n",
    "    for k in ly2:\n",
    "        start = time.time() \n",
    "        cur_path=dir_path+j+\"/\"+k+\"/clip/\"+k+\".mp4\"\n",
    "        print(cur_path)\n",
    "        make(cur_path)\n",
    "        end = time.time()\n",
    "        print('Running time: %s Seconds' % (end - start))\n",
    "        \n"
   ]
  },
  {
   "cell_type": "code",
   "execution_count": 158,
   "metadata": {},
   "outputs": [],
   "source": [
    "p=time.time()"
   ]
  },
  {
   "cell_type": "code",
   "execution_count": 159,
   "metadata": {},
   "outputs": [],
   "source": [
    "q=time.time()"
   ]
  },
  {
   "cell_type": "code",
   "execution_count": 135,
   "metadata": {},
   "outputs": [
    {
     "data": {
      "text/plain": [
       "'00'"
      ]
     },
     "execution_count": 135,
     "metadata": {},
     "output_type": "execute_result"
    }
   ],
   "source": [
    "ly1[1][:-1]"
   ]
  },
  {
   "cell_type": "code",
   "execution_count": 162,
   "metadata": {},
   "outputs": [
    {
     "data": {
      "text/plain": [
       "-6.66634202003479"
      ]
     },
     "execution_count": 162,
     "metadata": {},
     "output_type": "execute_result"
    }
   ],
   "source": [
    "p-q"
   ]
  },
  {
   "cell_type": "code",
   "execution_count": 153,
   "metadata": {},
   "outputs": [],
   "source": [
    "import cv2\n",
    "import numpy as np\n",
    "def make(file):\n",
    "        #首帧获取\n",
    "    video = cv2.VideoCapture(\"test.mp4\")\n",
    "    success, photo = video.read()  \n",
    "    video = 0\n",
    "\n",
    "    ##搜索RI\n",
    "    for i in range(gray.shape[0]):\n",
    "        if sum([k>30 for k in gray[i]])>=300:\n",
    "            line=i\n",
    "            print(line)\n",
    "            break\n",
    "    line=line+3\n",
    "    # search for left boundry\n",
    "    for k in range(len(gray[line])):\n",
    "        if gray[line][k]>=30:\n",
    "            lb=k\n",
    "            break\n",
    "    # search for right boundry\n",
    "    for k in range(len(gray[line]))[::-1]:\n",
    "        if gray[line][k]>=30:\n",
    "            rb=k\n",
    "            break\n",
    "    ##去除彩色水印\n",
    "    tt=photo.copy()\n",
    "    Erase_list=[]##复用于全部帧\n",
    "    for j in range(tt.shape[0]):\n",
    "        for k in range(tt.shape[1]):\n",
    "            if tt[j,k,0]!=tt[j,k,1] or tt[j,k,0]!=tt[j,k,2] or tt[j,k,1]!=tt[j,k,2]:\n",
    "                Erase_list.append([j,k])\n",
    "    depth=line\n",
    "    video.release()\n",
    "\n",
    "    video = cv2.VideoCapture(file)\n",
    "    fps = video.get(cv2.CAP_PROP_FPS)\n",
    "    frameCount = video.get(cv2.CAP_PROP_FRAME_COUNT)\n",
    "    size = (int(video.get(cv2.CAP_PROP_FRAME_WIDTH)), int(video.get(cv2.CAP_PROP_FRAME_HEIGHT)))\n",
    "    videoWriter = cv2.VideoWriter(file[:-4]+\"out.mp4\", cv2.VideoWriter_fourcc(*'MP4V'), 4, size)  \n",
    "\n",
    "    success, frame = video.read()  \n",
    "    img = frame[depth:,lb:rb,0].copy()\n",
    "    frame =  frame[depth:,lb:rb,0]\n",
    "\n",
    "    index = 1\n",
    "    thr=90\n",
    "    num_section=10\n",
    "    len_section=np.floor((rb-lb)/10).astype(int)\n",
    "\n",
    "    while success:  \n",
    "        #compute 1/5 frames\n",
    "        if index%5==0:\n",
    "            wst,frame=cv2.threshold(frame,thr,255,0)\n",
    "\n",
    "            B=[]\n",
    "            for i in range(num_section):\n",
    "                tmp=frame[:,0+i*len_section:(i+1)*len_section]\n",
    "                total = sum([sum(i) for i in tmp])\n",
    "                count=0\n",
    "                for idx,lice in enumerate(tmp):\n",
    "                    count+=sum(lice)\n",
    "                    if count>=total/2:\n",
    "                        #address abnormal points\n",
    "                        if idx>=40:\n",
    "                            B.append([(i+0.5)*len_section,idx])\n",
    "                        break\n",
    "\n",
    "\n",
    "            X = [i[0] for i in B]\n",
    "            Y = [i[1] for i in B]\n",
    "            mid=np.floor(len(X)/2).astype(int)\n",
    "\n",
    "            a,b=best_fit(X,Y)\n",
    "            p=[(0,int(a)),(rb-lb,int(a+b*(rb-lb)))]\n",
    "            cv2.line(img, p[0], p[1], (0, 0, 255),4)\n",
    "\n",
    "\n",
    "            videoWriter.write(cv2.resize(img, size))\n",
    "            \n",
    "        success, frame = video.read()\n",
    "        index += 1\n",
    "        if success and index%5==0:\n",
    "            ##Erase watermark\n",
    "            for pos in Erase_list:\n",
    "                frame[pos[0],pos[1],0]=frame[pos[0],pos[1],1]=frame[pos[0],pos[1],2]=0\n",
    "            img = frame[depth:,lb:rb].copy()\n",
    "            frame =  frame[depth:,lb:rb,0] \n",
    "\n",
    "\n",
    "    video.release()\n",
    "    videoWriter.release()\n",
    "    cv2.destroyAllWindows()"
   ]
  },
  {
   "cell_type": "code",
   "execution_count": 165,
   "metadata": {},
   "outputs": [
    {
     "ename": "ValueError",
     "evalue": "The truth value of an array with more than one element is ambiguous. Use a.any() or a.all()",
     "output_type": "error",
     "traceback": [
      "\u001b[1;31m---------------------------------------------------------------------------\u001b[0m",
      "\u001b[1;31mValueError\u001b[0m                                Traceback (most recent call last)",
      "\u001b[1;32m<ipython-input-165-8975fdb6e1cd>\u001b[0m in \u001b[0;36m<module>\u001b[1;34m\u001b[0m\n\u001b[0;32m      6\u001b[0m \u001b[1;31m##搜索RI\u001b[0m\u001b[1;33m\u001b[0m\u001b[1;33m\u001b[0m\u001b[1;33m\u001b[0m\u001b[0m\n\u001b[0;32m      7\u001b[0m \u001b[1;32mfor\u001b[0m \u001b[0mi\u001b[0m \u001b[1;32min\u001b[0m \u001b[0mrange\u001b[0m\u001b[1;33m(\u001b[0m\u001b[0mphoto\u001b[0m\u001b[1;33m.\u001b[0m\u001b[0mshape\u001b[0m\u001b[1;33m[\u001b[0m\u001b[1;36m0\u001b[0m\u001b[1;33m]\u001b[0m\u001b[1;33m)\u001b[0m\u001b[1;33m:\u001b[0m\u001b[1;33m\u001b[0m\u001b[1;33m\u001b[0m\u001b[0m\n\u001b[1;32m----> 8\u001b[1;33m     \u001b[1;32mif\u001b[0m \u001b[0msum\u001b[0m\u001b[1;33m(\u001b[0m\u001b[1;33m[\u001b[0m\u001b[0mk\u001b[0m \u001b[1;33m>\u001b[0m \u001b[1;36m30\u001b[0m \u001b[1;32mfor\u001b[0m \u001b[0mk\u001b[0m \u001b[1;32min\u001b[0m \u001b[0mphoto\u001b[0m\u001b[1;33m[\u001b[0m\u001b[0mi\u001b[0m\u001b[1;33m]\u001b[0m\u001b[1;33m]\u001b[0m\u001b[1;33m)\u001b[0m \u001b[1;33m>=\u001b[0m \u001b[1;36m300\u001b[0m\u001b[1;33m:\u001b[0m\u001b[1;33m\u001b[0m\u001b[1;33m\u001b[0m\u001b[0m\n\u001b[0m\u001b[0;32m      9\u001b[0m         \u001b[0mline\u001b[0m \u001b[1;33m=\u001b[0m \u001b[0mi\u001b[0m\u001b[1;33m\u001b[0m\u001b[1;33m\u001b[0m\u001b[0m\n\u001b[0;32m     10\u001b[0m         \u001b[0mprint\u001b[0m\u001b[1;33m(\u001b[0m\u001b[0mline\u001b[0m\u001b[1;33m)\u001b[0m\u001b[1;33m\u001b[0m\u001b[1;33m\u001b[0m\u001b[0m\n",
      "\u001b[1;31mValueError\u001b[0m: The truth value of an array with more than one element is ambiguous. Use a.any() or a.all()"
     ]
    }
   ],
   "source": [
    "file=\"C:/Users/Luka/Desktop/studies0-10/001/LAS/clip/LAS.mp4\"\n",
    "video = cv2.VideoCapture(file)\n",
    "success, photo = video.read()\n",
    "video = 0\n",
    "\n",
    "##搜索RI\n",
    "for i in range(photo.shape[0]):\n",
    "    if sum([k > 30 for k in photo[i]]) >= 300:\n",
    "        line = i\n",
    "        print(line)\n",
    "        break\n",
    "line = line + 3\n",
    "# search for left boundry\n",
    "for k in range(len(photo[line])):\n",
    "    if photo[line][k] >= 30:\n",
    "        lb = k\n",
    "        break\n",
    "# search for right boundry\n",
    "for k in range(len(photo[line]))[::-1]:\n",
    "    if photo[line][k] >= 30:\n",
    "        rb = k\n",
    "        break\n",
    "##去除彩色水印\n",
    "tt = photo.copy()\n",
    "Erase_list = []  ##复用于全部帧\n",
    "for j in range(tt.shape[0]):\n",
    "    for k in range(tt.shape[1]):\n",
    "        if tt[j, k, 0] != tt[j, k, 1] or tt[j, k, 0] != tt[j, k, 2] or tt[j, k, 1] != tt[j, k, 2]:\n",
    "            Erase_list.append([j, k])\n",
    "depth = line\n",
    "video.release()"
   ]
  },
  {
   "cell_type": "code",
   "execution_count": 12,
   "metadata": {},
   "outputs": [],
   "source": [
    "ow=[1,5,2,3,5]\n",
    "median=sorted(ow)[int(len(ow)/2)]"
   ]
  },
  {
   "cell_type": "code",
   "execution_count": 13,
   "metadata": {},
   "outputs": [
    {
     "data": {
      "text/plain": [
       "3"
      ]
     },
     "execution_count": 13,
     "metadata": {},
     "output_type": "execute_result"
    }
   ],
   "source": [
    "median"
   ]
  },
  {
   "cell_type": "code",
   "execution_count": 17,
   "metadata": {},
   "outputs": [],
   "source": [
    "import json\n",
    "import numpy as np\n",
    "import os\n",
    "import time\n",
    "import cv2\n",
    "\n",
    "posl=[]\n",
    "\n",
    "def best_fit(X, Y):\n",
    "\n",
    "    xbar = sum(X)/len(X)\n",
    "    ybar = sum(Y)/len(Y)\n",
    "    n = len(X) # or len(Y)\n",
    "\n",
    "    numer = sum([xi*yi for xi,yi in zip(X, Y)]) - n * xbar * ybar\n",
    "    denum = sum([xi**2 for xi in X]) - n * xbar**2\n",
    "\n",
    "    b = np.round(numer / denum,2)\n",
    "    a = np.round(ybar - b * xbar,2)\n",
    "\n",
    "    return a,b\n",
    "\n",
    "\n",
    "def make(file):\n",
    "\n",
    "    video = cv2.VideoCapture(file)\n",
    "    size = (int(video.get(cv2.CAP_PROP_FRAME_WIDTH)), int(video.get(cv2.CAP_PROP_FRAME_HEIGHT)))\n",
    "    videoWriter = cv2.VideoWriter(file[:-4] + \"_pre.mp4\", cv2.VideoWriter_fourcc(*'MP4V'), 4, size)\n",
    "    \n",
    "    lb=0\n",
    "    rb=size[0]\n",
    "    depth=0\n",
    "\n",
    "    success, frame = video.read()\n",
    "    img = frame[depth:, lb:rb, 0].copy()\n",
    "    frame = frame[depth:, lb:rb, 0]\n",
    "\n",
    "    index = 1\n",
    "    thr = 90\n",
    "    num_section = 10\n",
    "    len_section = np.floor((rb - lb) / num_section).astype(int)\n",
    "\n",
    "    while success:\n",
    "        # compute 1/5 frames\n",
    "        ##first peak of horizontal projection\n",
    "        P=[sum(i) for i in frame]\n",
    "        sp=sorted(enumerate(P),key=lambda x:-x[1])[:10]\n",
    "        pk_depth=sp[5][0]\n",
    "        cv2.line(img, (0,pk_depth),(rb-lb,pk_depth),(0, 255, 0))\n",
    "\n",
    "        wst, frame = cv2.threshold(frame, thr, 255, 0)\n",
    "\n",
    "        B = []\n",
    "        for i in range(num_section):\n",
    "            tmp=frame[:,0+i*len_section:(i+1)*len_section]\n",
    "            total = sum([sum(i) for i in tmp])\n",
    "            count=0\n",
    "            for idx,lice in enumerate(tmp):\n",
    "                count+=sum(lice)\n",
    "                if count>=total/2:\n",
    "                    if True:\n",
    "                        B.append([(i+0.5)*len_section,idx])\n",
    "                    break\n",
    "\n",
    "\n",
    "\n",
    "\n",
    "        #reg pos [()]\n",
    "        sB=sorted(B,key=lambda x:x[1])\n",
    "        median=sB[int(len(B)/2)][1]\n",
    "\n",
    "#             th=40\n",
    "#             for i in range(len(B)):\n",
    "#                 if not median-th<=B[i][1]<=median+th:\n",
    "#                     B[i][1]=median\n",
    "#             #line th\n",
    "#             cv2.line(img, (0,median-th),(rb-lb,median-th),(255, 0, 66))\n",
    "#             cv2.line(img, (0,median+th),(rb-lb,median+th),(255, 0, 66))\n",
    "\n",
    "\n",
    "        for pos in B:\n",
    "            cv2.putText(img, 'o', (int(pos[0]),int(pos[1])), cv2.FONT_HERSHEY_SIMPLEX, 1, (0,255,0), 1)\n",
    "\n",
    "        X = [i[0] for i in B]\n",
    "        Y = [i[1] for i in B]\n",
    "        xs = np.linspace(1,rb-lb,rb-lb).astype(int)\n",
    "        ys = [ int(i) for i in spline(X, Y, xs)]\n",
    "\n",
    "        for i,(x,y) in enumerate(zip(xs,ys)):\n",
    "            if i>=rb-lb-30:\n",
    "                break\n",
    "            if i>=20:\n",
    "                cv2.line(img, (x,y),(xs[i+1],ys[i+1]),255)\n",
    "        mid=np.floor(len(X)/2).astype(int)\n",
    "\n",
    "        a,b=best_fit(X,Y)\n",
    "        p=[(0,int(a)),(rb-lb,int(a+b*(rb-lb)))]\n",
    "        cv2.line(img, p[0], p[1], (0, 0, 255))\n",
    "\n",
    "\n",
    "        videoWriter.write(img, size)\n",
    "\n",
    "        cv2.imshow(\"new video\", img)\n",
    "        cv2.waitKey(int(1000 / int(fps)))\n",
    "\n",
    "        success, frame = video.read()\n",
    "        index += 1\n",
    "        \n",
    "        img = frame[depth:, lb:rb].copy()\n",
    "        frame = frame[depth:, lb:rb, 0]\n",
    "\n",
    "    video.release()\n",
    "    videoWriter.release()\n",
    "    cv2.destroyAllWindows()\n",
    "    "
   ]
  },
  {
   "cell_type": "code",
   "execution_count": 15,
   "metadata": {},
   "outputs": [
    {
     "name": "stdout",
     "output_type": "stream",
     "text": [
      "(936, 1080)\n"
     ]
    },
    {
     "data": {
      "text/plain": [
       "-1"
      ]
     },
     "execution_count": 15,
     "metadata": {},
     "output_type": "execute_result"
    }
   ],
   "source": [
    "video = cv2.VideoCapture('C:/Users/Luka/Desktop/RI_Sag/LAS/001_RI.mp4')\n",
    "size = (int(video.get(cv2.CAP_PROP_FRAME_WIDTH)), int(video.get(cv2.CAP_PROP_FRAME_HEIGHT)))\n",
    "success, frame = video.read()\n",
    "print(size)\n",
    "cv2.imshow(\"new video\", frame)\n",
    "cv2.waitKey(0)"
   ]
  },
  {
   "cell_type": "code",
   "execution_count": 14,
   "metadata": {},
   "outputs": [
    {
     "data": {
      "text/plain": [
       "(1080, 936, 3)"
      ]
     },
     "execution_count": 14,
     "metadata": {},
     "output_type": "execute_result"
    }
   ],
   "source": [
    "frame.shape"
   ]
  },
  {
   "cell_type": "code",
   "execution_count": 43,
   "metadata": {},
   "outputs": [
    {
     "name": "stdout",
     "output_type": "stream",
     "text": [
      "C:/Users/Luka/Desktop/studies0-10/001/LAS/clip/LAS.mp4\n",
      "87\n"
     ]
    },
    {
     "name": "stderr",
     "output_type": "stream",
     "text": [
      "D:\\Anaconda\\lib\\site-packages\\ipykernel_launcher.py:115: DeprecationWarning: `spline` is deprecated!\n",
      "spline is deprecated in scipy 0.19.0, use Bspline class instead.\n"
     ]
    },
    {
     "name": "stdout",
     "output_type": "stream",
     "text": [
      "Running time: 19.44147515296936 Seconds\n",
      "C:/Users/Luka/Desktop/studies0-10/001/LAT/clip/LAT.mp4\n",
      "87\n",
      "Running time: 18.060240030288696 Seconds\n",
      "C:/Users/Luka/Desktop/studies0-10/001/LLS/clip/LLS.mp4\n",
      "149\n",
      "Running time: 16.912341117858887 Seconds\n",
      "C:/Users/Luka/Desktop/studies0-10/001/LLT/clip/LLT.mp4\n",
      "149\n",
      "Running time: 21.52801012992859 Seconds\n",
      "C:/Users/Luka/Desktop/studies0-10/001/LPS/clip/LPS.mp4\n",
      "149\n",
      "Running time: 21.397942066192627 Seconds\n",
      "C:/Users/Luka/Desktop/studies0-10/001/RAS/clip/RAS.mp4\n",
      "87\n",
      "Running time: 16.95398736000061 Seconds\n",
      "C:/Users/Luka/Desktop/studies0-10/001/RAT/clip/RAT.mp4\n",
      "87\n",
      "Running time: 20.249590396881104 Seconds\n",
      "C:/Users/Luka/Desktop/studies0-10/001/RLS/clip/RLS.mp4\n",
      "87\n",
      "Running time: 17.637616634368896 Seconds\n",
      "C:/Users/Luka/Desktop/studies0-10/001/RLT/clip/RLT.mp4\n",
      "87\n",
      "Running time: 18.1047682762146 Seconds\n",
      "C:/Users/Luka/Desktop/studies0-10/001/RPS/clip/RPS.mp4\n",
      "149\n",
      "Running time: 25.927383184432983 Seconds\n",
      "C:/Users/Luka/Desktop/studies0-10/001/RPT/clip/RPT.mp4\n",
      "149\n",
      "Running time: 22.823132038116455 Seconds\n",
      "C:/Users/Luka/Desktop/studies0-10/002/LAS/clip/LAS.mp4\n",
      "87\n",
      "Running time: 27.4809672832489 Seconds\n",
      "C:/Users/Luka/Desktop/studies0-10/002/LAT/clip/LAT.mp4\n",
      "87\n",
      "Running time: 22.587970972061157 Seconds\n",
      "C:/Users/Luka/Desktop/studies0-10/002/LLS/clip/LLS.mp4\n",
      "87\n",
      "Running time: 15.72373628616333 Seconds\n",
      "C:/Users/Luka/Desktop/studies0-10/002/LLT/clip/LLT.mp4\n",
      "87\n",
      "Running time: 22.880502223968506 Seconds\n",
      "C:/Users/Luka/Desktop/studies0-10/002/LPS/clip/LPS.mp4\n",
      "87\n",
      "Running time: 28.988346338272095 Seconds\n",
      "C:/Users/Luka/Desktop/studies0-10/002/RAS/clip/RAS.mp4\n",
      "87\n",
      "Running time: 20.03238320350647 Seconds\n",
      "C:/Users/Luka/Desktop/studies0-10/002/RAT/clip/RAT.mp4\n",
      "87\n",
      "Running time: 27.793601512908936 Seconds\n",
      "C:/Users/Luka/Desktop/studies0-10/002/RLS/clip/RLS.mp4\n",
      "87\n",
      "Running time: 16.218706130981445 Seconds\n",
      "C:/Users/Luka/Desktop/studies0-10/002/RLT/clip/RLT.mp4\n",
      "87\n",
      "Running time: 17.41223430633545 Seconds\n",
      "C:/Users/Luka/Desktop/studies0-10/002/RPS/clip/RPS.mp4\n",
      "87\n",
      "Running time: 22.848562479019165 Seconds\n",
      "C:/Users/Luka/Desktop/studies0-10/002/RPT/clip/RPT.mp4\n",
      "87\n",
      "Running time: 34.17638540267944 Seconds\n",
      "C:/Users/Luka/Desktop/studies0-10/003/LAS/clip/LAS.mp4\n",
      "87\n",
      "Running time: 20.67823028564453 Seconds\n",
      "C:/Users/Luka/Desktop/studies0-10/003/LAT/clip/LAT.mp4\n",
      "87\n",
      "Running time: 20.28400182723999 Seconds\n",
      "C:/Users/Luka/Desktop/studies0-10/003/LLS/clip/LLS.mp4\n",
      "149\n",
      "Running time: 26.08127212524414 Seconds\n",
      "C:/Users/Luka/Desktop/studies0-10/003/LLT/clip/LLT.mp4\n",
      "149\n",
      "Running time: 21.768989086151123 Seconds\n",
      "C:/Users/Luka/Desktop/studies0-10/003/LPS/clip/LPS.mp4\n",
      "87\n",
      "Running time: 17.487712621688843 Seconds\n",
      "C:/Users/Luka/Desktop/studies0-10/003/RAS/clip/RAS.mp4\n",
      "87\n",
      "Running time: 13.778000593185425 Seconds\n",
      "C:/Users/Luka/Desktop/studies0-10/003/RAT/clip/RAT.mp4\n",
      "87\n",
      "Running time: 19.549806118011475 Seconds\n",
      "C:/Users/Luka/Desktop/studies0-10/003/RLS/clip/RLS.mp4\n",
      "87\n",
      "Running time: 15.279845952987671 Seconds\n",
      "C:/Users/Luka/Desktop/studies0-10/003/RLT/clip/RLT.mp4\n",
      "87\n",
      "Running time: 17.039127349853516 Seconds\n",
      "C:/Users/Luka/Desktop/studies0-10/003/RPS/clip/RPS.mp4\n",
      "149\n",
      "Running time: 24.78537344932556 Seconds\n",
      "C:/Users/Luka/Desktop/studies0-10/003/RPT/clip/RPT.mp4\n",
      "87\n",
      "Running time: 19.849868059158325 Seconds\n",
      "C:/Users/Luka/Desktop/studies0-10/004/LAS/clip/LAS.mp4\n",
      "26\n",
      "Running time: 25.416515827178955 Seconds\n",
      "C:/Users/Luka/Desktop/studies0-10/004/LAT/clip/LAT.mp4\n",
      "26\n",
      "Running time: 21.816166400909424 Seconds\n",
      "C:/Users/Luka/Desktop/studies0-10/004/LLS/clip/LLS.mp4\n",
      "26\n",
      "Running time: 35.47534942626953 Seconds\n",
      "C:/Users/Luka/Desktop/studies0-10/004/LLT/clip/LLT.mp4\n",
      "26\n",
      "Running time: 31.41210675239563 Seconds\n",
      "C:/Users/Luka/Desktop/studies0-10/004/LPS/clip/LPS.mp4\n",
      "26\n",
      "Running time: 29.622682332992554 Seconds\n",
      "C:/Users/Luka/Desktop/studies0-10/004/RAS/clip/RAS.mp4\n",
      "26\n",
      "Running time: 20.94221568107605 Seconds\n",
      "C:/Users/Luka/Desktop/studies0-10/004/RAT/clip/RAT.mp4\n",
      "26\n",
      "Running time: 25.91386103630066 Seconds\n",
      "C:/Users/Luka/Desktop/studies0-10/004/RLS/clip/RLS.mp4\n",
      "26\n",
      "Running time: 22.751117944717407 Seconds\n",
      "C:/Users/Luka/Desktop/studies0-10/004/RLT/clip/RLT.mp4\n",
      "26\n",
      "Running time: 19.805999040603638 Seconds\n",
      "C:/Users/Luka/Desktop/studies0-10/004/RPS/clip/RPS.mp4\n",
      "26\n",
      "Running time: 29.317732572555542 Seconds\n",
      "C:/Users/Luka/Desktop/studies0-10/004/RPT/clip/RPT.mp4\n",
      "26\n",
      "Running time: 29.572566747665405 Seconds\n",
      "C:/Users/Luka/Desktop/studies0-10/005/LAS/clip/LAS.mp4\n",
      "87\n",
      "Running time: 29.42663311958313 Seconds\n",
      "C:/Users/Luka/Desktop/studies0-10/005/LAT/clip/LAT.mp4\n",
      "87\n",
      "Running time: 23.270726919174194 Seconds\n",
      "C:/Users/Luka/Desktop/studies0-10/005/LLS/clip/LLS.mp4\n",
      "87\n",
      "Running time: 13.510738372802734 Seconds\n",
      "C:/Users/Luka/Desktop/studies0-10/005/LLT/clip/LLT.mp4\n",
      "87\n",
      "Running time: 17.691199779510498 Seconds\n",
      "C:/Users/Luka/Desktop/studies0-10/005/LPS/clip/LPS.mp4\n",
      "87\n",
      "Running time: 18.549571752548218 Seconds\n",
      "C:/Users/Luka/Desktop/studies0-10/005/RAS/clip/RAS.mp4\n",
      "87\n",
      "Running time: 30.900907039642334 Seconds\n",
      "C:/Users/Luka/Desktop/studies0-10/005/RAT/clip/RAT.mp4\n",
      "87\n",
      "Running time: 26.643664121627808 Seconds\n",
      "C:/Users/Luka/Desktop/studies0-10/005/RLS/clip/RLS.mp4\n",
      "87\n",
      "Running time: 13.378402948379517 Seconds\n",
      "C:/Users/Luka/Desktop/studies0-10/005/RLT/clip/RLT.mp4\n",
      "87\n",
      "Running time: 16.292217016220093 Seconds\n",
      "C:/Users/Luka/Desktop/studies0-10/005/RPS/clip/RPS.mp4\n",
      "87\n",
      "Running time: 19.87809729576111 Seconds\n",
      "C:/Users/Luka/Desktop/studies0-10/005/RPT/clip/RPT.mp4\n",
      "87\n",
      "Running time: 18.50479221343994 Seconds\n",
      "C:/Users/Luka/Desktop/studies0-10/006/LAS/clip/LAS.mp4\n",
      "87\n",
      "Running time: 14.685142517089844 Seconds\n",
      "C:/Users/Luka/Desktop/studies0-10/006/LAT/clip/LAT.mp4\n",
      "87\n",
      "Running time: 22.46130919456482 Seconds\n",
      "C:/Users/Luka/Desktop/studies0-10/006/LLS/clip/LLS.mp4\n",
      "87\n",
      "Running time: 24.421522617340088 Seconds\n",
      "C:/Users/Luka/Desktop/studies0-10/006/LLT/clip/LLT.mp4\n",
      "87\n",
      "Running time: 24.906795740127563 Seconds\n",
      "C:/Users/Luka/Desktop/studies0-10/006/LPS/clip/LPS.mp4\n",
      "87\n",
      "Running time: 17.4618182182312 Seconds\n",
      "C:/Users/Luka/Desktop/studies0-10/006/RAS/clip/RAS.mp4\n",
      "149\n",
      "Running time: 31.72046995162964 Seconds\n",
      "C:/Users/Luka/Desktop/studies0-10/006/RAT/clip/RAT.mp4\n",
      "149\n",
      "Running time: 21.649433612823486 Seconds\n",
      "C:/Users/Luka/Desktop/studies0-10/006/RLS/clip/RLS.mp4\n",
      "87\n",
      "Running time: 15.868693113327026 Seconds\n",
      "C:/Users/Luka/Desktop/studies0-10/006/RLT/clip/RLT.mp4\n",
      "87\n",
      "Running time: 22.418027639389038 Seconds\n",
      "C:/Users/Luka/Desktop/studies0-10/006/RPS/clip/RPS.mp4\n",
      "87\n",
      "Running time: 22.062061309814453 Seconds\n",
      "C:/Users/Luka/Desktop/studies0-10/006/RPT/clip/RPT.mp4\n",
      "87\n",
      "Running time: 26.202987909317017 Seconds\n",
      "C:/Users/Luka/Desktop/studies0-10/007/LAS/clip/LAS.mp4\n",
      "149\n",
      "Running time: 12.878041982650757 Seconds\n",
      "C:/Users/Luka/Desktop/studies0-10/007/LAT/clip/LAT.mp4\n",
      "149\n",
      "Running time: 21.83592462539673 Seconds\n",
      "C:/Users/Luka/Desktop/studies0-10/007/LLS/clip/LLS.mp4\n",
      "149\n",
      "Running time: 15.233832836151123 Seconds\n",
      "C:/Users/Luka/Desktop/studies0-10/007/LLT/clip/LLT.mp4\n",
      "149\n",
      "Running time: 26.375014781951904 Seconds\n",
      "C:/Users/Luka/Desktop/studies0-10/007/LPS/clip/LPS.mp4\n",
      "149\n",
      "Running time: 21.91221284866333 Seconds\n",
      "C:/Users/Luka/Desktop/studies0-10/007/RAS/clip/RAS.mp4\n",
      "149\n",
      "Running time: 18.60812520980835 Seconds\n",
      "C:/Users/Luka/Desktop/studies0-10/007/RAT/clip/RAT.mp4\n",
      "149\n",
      "Running time: 27.46997094154358 Seconds\n",
      "C:/Users/Luka/Desktop/studies0-10/007/RLS/clip/RLS.mp4\n",
      "149\n",
      "Running time: 17.75245952606201 Seconds\n",
      "C:/Users/Luka/Desktop/studies0-10/007/RLT/clip/RLT.mp4\n",
      "149\n",
      "Running time: 22.40023374557495 Seconds\n",
      "C:/Users/Luka/Desktop/studies0-10/007/RPS/clip/RPS.mp4\n",
      "149\n",
      "Running time: 23.544649124145508 Seconds\n",
      "C:/Users/Luka/Desktop/studies0-10/007/RPT/clip/RPT.mp4\n",
      "149\n",
      "Running time: 23.699668407440186 Seconds\n",
      "C:/Users/Luka/Desktop/studies0-10/008/LAS/clip/LAS.mp4\n",
      "87\n",
      "Running time: 13.215260744094849 Seconds\n",
      "C:/Users/Luka/Desktop/studies0-10/008/LAT/clip/LAT.mp4\n",
      "87\n",
      "Running time: 17.36191987991333 Seconds\n",
      "C:/Users/Luka/Desktop/studies0-10/008/LLS/clip/LLS.mp4\n",
      "87\n",
      "Running time: 12.068446159362793 Seconds\n",
      "C:/Users/Luka/Desktop/studies0-10/008/LLT/clip/LLT.mp4\n",
      "87\n",
      "Running time: 21.07681441307068 Seconds\n",
      "C:/Users/Luka/Desktop/studies0-10/008/LPS/clip/LPS.mp4\n",
      "48\n",
      "Running time: 13.631741285324097 Seconds\n",
      "C:/Users/Luka/Desktop/studies0-10/008/RAS/clip/RAS.mp4\n",
      "115\n",
      "Running time: 15.729451894760132 Seconds\n",
      "C:/Users/Luka/Desktop/studies0-10/008/RAT/clip/RAT.mp4\n"
     ]
    },
    {
     "name": "stdout",
     "output_type": "stream",
     "text": [
      "115\n",
      "Running time: 22.746469259262085 Seconds\n",
      "C:/Users/Luka/Desktop/studies0-10/008/RLS/clip/RLS.mp4\n",
      "48\n",
      "Running time: 11.017057180404663 Seconds\n",
      "C:/Users/Luka/Desktop/studies0-10/008/RLT/clip/RLT.mp4\n",
      "48\n",
      "Running time: 16.336976528167725 Seconds\n",
      "C:/Users/Luka/Desktop/studies0-10/008/RPS/clip/RPS.mp4\n",
      "48\n",
      "Running time: 24.731128692626953 Seconds\n",
      "C:/Users/Luka/Desktop/studies0-10/008/RPT/clip/RPT.mp4\n",
      "48\n"
     ]
    },
    {
     "ename": "KeyboardInterrupt",
     "evalue": "",
     "output_type": "error",
     "traceback": [
      "\u001b[1;31m---------------------------------------------------------------------------\u001b[0m",
      "\u001b[1;31mKeyboardInterrupt\u001b[0m                         Traceback (most recent call last)",
      "\u001b[1;32m<ipython-input-43-a8f1bedd1615>\u001b[0m in \u001b[0;36m<module>\u001b[1;34m\u001b[0m\n\u001b[0;32m     12\u001b[0m         \u001b[0mcur_path\u001b[0m \u001b[1;33m=\u001b[0m \u001b[0mdir_path\u001b[0m \u001b[1;33m+\u001b[0m \u001b[0mj\u001b[0m \u001b[1;33m+\u001b[0m \u001b[1;34m\"/\"\u001b[0m \u001b[1;33m+\u001b[0m \u001b[0mk\u001b[0m \u001b[1;33m+\u001b[0m \u001b[1;34m\"/clip/\"\u001b[0m \u001b[1;33m+\u001b[0m \u001b[0mk\u001b[0m \u001b[1;33m+\u001b[0m \u001b[1;34m\".mp4\"\u001b[0m\u001b[1;33m\u001b[0m\u001b[1;33m\u001b[0m\u001b[0m\n\u001b[0;32m     13\u001b[0m         \u001b[0mprint\u001b[0m\u001b[1;33m(\u001b[0m\u001b[0mcur_path\u001b[0m\u001b[1;33m)\u001b[0m\u001b[1;33m\u001b[0m\u001b[1;33m\u001b[0m\u001b[0m\n\u001b[1;32m---> 14\u001b[1;33m         \u001b[0mmake\u001b[0m\u001b[1;33m(\u001b[0m\u001b[0mcur_path\u001b[0m\u001b[1;33m)\u001b[0m\u001b[1;33m\u001b[0m\u001b[1;33m\u001b[0m\u001b[0m\n\u001b[0m\u001b[0;32m     15\u001b[0m         \u001b[0mend\u001b[0m \u001b[1;33m=\u001b[0m \u001b[0mtime\u001b[0m\u001b[1;33m.\u001b[0m\u001b[0mtime\u001b[0m\u001b[1;33m(\u001b[0m\u001b[1;33m)\u001b[0m\u001b[1;33m\u001b[0m\u001b[1;33m\u001b[0m\u001b[0m\n\u001b[0;32m     16\u001b[0m         \u001b[0mprint\u001b[0m\u001b[1;33m(\u001b[0m\u001b[1;34m'Running time: %s Seconds'\u001b[0m \u001b[1;33m%\u001b[0m \u001b[1;33m(\u001b[0m\u001b[0mend\u001b[0m \u001b[1;33m-\u001b[0m \u001b[0mstart\u001b[0m\u001b[1;33m)\u001b[0m\u001b[1;33m)\u001b[0m\u001b[1;33m\u001b[0m\u001b[1;33m\u001b[0m\u001b[0m\n",
      "\u001b[1;32m<ipython-input-40-e3ed7765b937>\u001b[0m in \u001b[0;36mmake\u001b[1;34m(file)\u001b[0m\n\u001b[0;32m     82\u001b[0m             \u001b[1;32mfor\u001b[0m \u001b[0mi\u001b[0m \u001b[1;32min\u001b[0m \u001b[0mrange\u001b[0m\u001b[1;33m(\u001b[0m\u001b[0mnum_section\u001b[0m\u001b[1;33m)\u001b[0m\u001b[1;33m:\u001b[0m\u001b[1;33m\u001b[0m\u001b[1;33m\u001b[0m\u001b[0m\n\u001b[0;32m     83\u001b[0m                 \u001b[0mtmp\u001b[0m\u001b[1;33m=\u001b[0m\u001b[0mframe\u001b[0m\u001b[1;33m[\u001b[0m\u001b[1;33m:\u001b[0m\u001b[1;33m,\u001b[0m\u001b[1;36m0\u001b[0m\u001b[1;33m+\u001b[0m\u001b[0mi\u001b[0m\u001b[1;33m*\u001b[0m\u001b[0mlen_section\u001b[0m\u001b[1;33m:\u001b[0m\u001b[1;33m(\u001b[0m\u001b[0mi\u001b[0m\u001b[1;33m+\u001b[0m\u001b[1;36m1\u001b[0m\u001b[1;33m)\u001b[0m\u001b[1;33m*\u001b[0m\u001b[0mlen_section\u001b[0m\u001b[1;33m]\u001b[0m\u001b[1;33m\u001b[0m\u001b[1;33m\u001b[0m\u001b[0m\n\u001b[1;32m---> 84\u001b[1;33m                 \u001b[0mtotal\u001b[0m \u001b[1;33m=\u001b[0m \u001b[0msum\u001b[0m\u001b[1;33m(\u001b[0m\u001b[1;33m[\u001b[0m\u001b[0msum\u001b[0m\u001b[1;33m(\u001b[0m\u001b[0mi\u001b[0m\u001b[1;33m)\u001b[0m \u001b[1;32mfor\u001b[0m \u001b[0mi\u001b[0m \u001b[1;32min\u001b[0m \u001b[0mtmp\u001b[0m\u001b[1;33m]\u001b[0m\u001b[1;33m)\u001b[0m\u001b[1;33m\u001b[0m\u001b[1;33m\u001b[0m\u001b[0m\n\u001b[0m\u001b[0;32m     85\u001b[0m                 \u001b[0mcount\u001b[0m\u001b[1;33m=\u001b[0m\u001b[1;36m0\u001b[0m\u001b[1;33m\u001b[0m\u001b[1;33m\u001b[0m\u001b[0m\n\u001b[0;32m     86\u001b[0m                 \u001b[1;32mfor\u001b[0m \u001b[0midx\u001b[0m\u001b[1;33m,\u001b[0m\u001b[0mlice\u001b[0m \u001b[1;32min\u001b[0m \u001b[0menumerate\u001b[0m\u001b[1;33m(\u001b[0m\u001b[0mtmp\u001b[0m\u001b[1;33m)\u001b[0m\u001b[1;33m:\u001b[0m\u001b[1;33m\u001b[0m\u001b[1;33m\u001b[0m\u001b[0m\n",
      "\u001b[1;32m<ipython-input-40-e3ed7765b937>\u001b[0m in \u001b[0;36m<listcomp>\u001b[1;34m(.0)\u001b[0m\n\u001b[0;32m     82\u001b[0m             \u001b[1;32mfor\u001b[0m \u001b[0mi\u001b[0m \u001b[1;32min\u001b[0m \u001b[0mrange\u001b[0m\u001b[1;33m(\u001b[0m\u001b[0mnum_section\u001b[0m\u001b[1;33m)\u001b[0m\u001b[1;33m:\u001b[0m\u001b[1;33m\u001b[0m\u001b[1;33m\u001b[0m\u001b[0m\n\u001b[0;32m     83\u001b[0m                 \u001b[0mtmp\u001b[0m\u001b[1;33m=\u001b[0m\u001b[0mframe\u001b[0m\u001b[1;33m[\u001b[0m\u001b[1;33m:\u001b[0m\u001b[1;33m,\u001b[0m\u001b[1;36m0\u001b[0m\u001b[1;33m+\u001b[0m\u001b[0mi\u001b[0m\u001b[1;33m*\u001b[0m\u001b[0mlen_section\u001b[0m\u001b[1;33m:\u001b[0m\u001b[1;33m(\u001b[0m\u001b[0mi\u001b[0m\u001b[1;33m+\u001b[0m\u001b[1;36m1\u001b[0m\u001b[1;33m)\u001b[0m\u001b[1;33m*\u001b[0m\u001b[0mlen_section\u001b[0m\u001b[1;33m]\u001b[0m\u001b[1;33m\u001b[0m\u001b[1;33m\u001b[0m\u001b[0m\n\u001b[1;32m---> 84\u001b[1;33m                 \u001b[0mtotal\u001b[0m \u001b[1;33m=\u001b[0m \u001b[0msum\u001b[0m\u001b[1;33m(\u001b[0m\u001b[1;33m[\u001b[0m\u001b[0msum\u001b[0m\u001b[1;33m(\u001b[0m\u001b[0mi\u001b[0m\u001b[1;33m)\u001b[0m \u001b[1;32mfor\u001b[0m \u001b[0mi\u001b[0m \u001b[1;32min\u001b[0m \u001b[0mtmp\u001b[0m\u001b[1;33m]\u001b[0m\u001b[1;33m)\u001b[0m\u001b[1;33m\u001b[0m\u001b[1;33m\u001b[0m\u001b[0m\n\u001b[0m\u001b[0;32m     85\u001b[0m                 \u001b[0mcount\u001b[0m\u001b[1;33m=\u001b[0m\u001b[1;36m0\u001b[0m\u001b[1;33m\u001b[0m\u001b[1;33m\u001b[0m\u001b[0m\n\u001b[0;32m     86\u001b[0m                 \u001b[1;32mfor\u001b[0m \u001b[0midx\u001b[0m\u001b[1;33m,\u001b[0m\u001b[0mlice\u001b[0m \u001b[1;32min\u001b[0m \u001b[0menumerate\u001b[0m\u001b[1;33m(\u001b[0m\u001b[0mtmp\u001b[0m\u001b[1;33m)\u001b[0m\u001b[1;33m:\u001b[0m\u001b[1;33m\u001b[0m\u001b[1;33m\u001b[0m\u001b[0m\n",
      "\u001b[1;31mKeyboardInterrupt\u001b[0m: "
     ]
    }
   ],
   "source": [
    "#### ATTENTION HERE\n",
    "dir_path = 'studies0-10'\n",
    "dir_path = 'C:/Users/Luka/Desktop/studies0-10/'\n",
    "\n",
    "\n",
    "ly1 = [str(i).zfill(3) for i in range(1, 11)]\n",
    "ly2 = [\"LAS\", \"LAT\", \"LLS\", 'LLT', 'LPS', 'RAS', 'RAT', 'RLS', 'RLT', 'RPS', 'RPT']\n",
    "\n",
    "for j in ly1:\n",
    "    for k in ly2:\n",
    "        start = time.time()\n",
    "        cur_path = dir_path + j + \"/\" + k + \"/clip/\" + k + \".mp4\"\n",
    "        print(cur_path)\n",
    "        make(cur_path)\n",
    "        end = time.time()\n",
    "        print('Running time: %s Seconds' % (end - start))\n"
   ]
  },
  {
   "cell_type": "code",
   "execution_count": 44,
   "metadata": {},
   "outputs": [],
   "source": [
    "    video.release()\n",
    "    videoWriter.release()\n",
    "    cv2.destroyAllWindows()"
   ]
  },
  {
   "cell_type": "code",
   "execution_count": 30,
   "metadata": {},
   "outputs": [],
   "source": [
    "#水平投影\n",
    "import numpy as np\n",
    "import cv2 as cv \n",
    "img=cv2.resize(cv.imread(\"face.jpg\",0),(540,360))\n",
    "ret,img1=cv.threshold(img,80,1,0)\n",
    "#返回图像的高和宽\n",
    "(h,w)=img1.shape\n",
    "#初始化一个跟图像高一样长度的数组，用于记录每一行的黑点个数\n",
    "a=[0 for z in range(0,h)]\n",
    " \n",
    "for i in range(0,h):          #遍历每一行\n",
    "    for j in range(0,w):      #遍历每一列\n",
    "        if img1[i,j]==0:      #判断该点是否为黑点，0代表黑点\n",
    "            a[i]+=1           #该行的计数器加一\n",
    "            img1[i,j]=255     #将其改为白点，即等于255\n",
    "for i in range(0,h):          #遍历每一行\n",
    "    for j in range(0,a[i]):   #从该行应该变黑的最左边的点开始向最右边的点设置黑点\n",
    "        img1[i,j]=0           #设置黑点\n",
    "cv.imshow(\"img\",img1) \n",
    "cv.waitKey(0) \n",
    "cv.destroyAllWindows() "
   ]
  },
  {
   "cell_type": "code",
   "execution_count": 34,
   "metadata": {},
   "outputs": [
    {
     "name": "stdout",
     "output_type": "stream",
     "text": [
      "[(0, 1), (1, 2)]\n"
     ]
    }
   ],
   "source": [
    "print([ i for i in enumerate([1,2])])"
   ]
  },
  {
   "cell_type": "code",
   "execution_count": 12,
   "metadata": {},
   "outputs": [
    {
     "name": "stdout",
     "output_type": "stream",
     "text": [
      "1.0\n"
     ]
    }
   ],
   "source": [
    "import numpy as np\n",
    "import cv2\n",
    "\n",
    "\n",
    "img1=cv2.resize(cv2.imread(\"face.jpg\",cv2.COLOR_BGR2GRAY),(540,360))\n",
    "img2=img1\n",
    "\n",
    "\n",
    "coe = round(np.mean(np.multiply((img1-np.mean(img1)),(img2-np.mean(img2))))/(np.std(img1)*np.std(img2)),3)\n",
    "print(coe)"
   ]
  },
  {
   "cell_type": "code",
   "execution_count": 1,
   "metadata": {},
   "outputs": [],
   "source": [
    "import json\n",
    "import numpy as np\n",
    "import os\n",
    "import time\n",
    "import cv2\n",
    "\n",
    "posl=[]\n",
    "\n",
    "def best_fit(X, Y):\n",
    "\n",
    "    xbar = sum(X)/len(X)\n",
    "    ybar = sum(Y)/len(Y)\n",
    "    n = len(X) # or len(Y)\n",
    "\n",
    "    numer = sum([xi*yi for xi,yi in zip(X, Y)]) - n * xbar * ybar\n",
    "    denum = sum([xi**2 for xi in X]) - n * xbar**2\n",
    "\n",
    "    b = np.round(numer / denum,2)\n",
    "    a = np.round(ybar - b * xbar,2)\n",
    "\n",
    "    return a,b\n",
    "\n",
    "\n",
    "def make(file):\n",
    "\n",
    "    video = cv2.VideoCapture(file)\n",
    "    size = (int(video.get(cv2.CAP_PROP_FRAME_WIDTH)), int(video.get(cv2.CAP_PROP_FRAME_HEIGHT)))\n",
    "    fps = video.get(cv2.CAP_PROP_FPS)\n",
    "    videoWriter = cv2.VideoWriter(file[:-4] + \"_pre.mp4\", cv2.VideoWriter_fourcc(*'MP4V'), 4, size)\n",
    "    \n",
    "    lb=0\n",
    "    rb=size[0]\n",
    "    depth=0\n",
    "\n",
    "    success, frame = video.read()\n",
    "    img = frame[depth:, lb:rb, 0].copy()\n",
    "    frame = frame[depth:, lb:rb, 0]\n",
    "\n",
    "    index = 1\n",
    "    thr = 90\n",
    "    num_section = 10\n",
    "    len_section = np.floor((rb - lb) / num_section).astype(int)\n",
    "\n",
    "    while success:\n",
    "        # compute 1/5 frames\n",
    "        ##first peak of horizontal projection\n",
    "        P=[sum(i) for i in frame]\n",
    "        sp=sorted(enumerate(P),key=lambda x:-x[1])[:10]\n",
    "        pk_depth=sp[5][0]\n",
    "        cv2.line(img, (0,pk_depth),(rb-lb,pk_depth),(0, 255, 0))\n",
    "\n",
    "        wst, frame = cv2.threshold(frame, thr, 255, 0)\n",
    "\n",
    "        B = []\n",
    "        for i in range(num_section):\n",
    "            tmp=frame[:,i*len_section:(i+1)*len_section]\n",
    "            total = sum([sum(i) for i in tmp])\n",
    "            count=0\n",
    "            for idx,lice in enumerate(tmp):\n",
    "                count+=sum(lice)\n",
    "                if count>=total/2:\n",
    "                    if True:\n",
    "                        B.append([(i+0.5)*len_section,idx])\n",
    "                    break\n",
    "\n",
    "        #reg pos [()]\n",
    "        sB=sorted(B,key=lambda x:x[1])\n",
    "        median=sB[int(len(B)/2)][1]\n",
    "\n",
    "#             th=40\n",
    "#             for i in range(len(B)):\n",
    "#                 if not median-th<=B[i][1]<=median+th:\n",
    "#                     B[i][1]=median\n",
    "#             #line th\n",
    "#             cv2.line(img, (0,median-th),(rb-lb,median-th),(255, 0, 66))\n",
    "#             cv2.line(img, (0,median+th),(rb-lb,median+th),(255, 0, 66))\n",
    "\n",
    "\n",
    "        for pos in B:\n",
    "            cv2.putText(img, 'o', (int(pos[0]),int(pos[1])), cv2.FONT_HERSHEY_SIMPLEX, 1, (0,255,0), 1)\n",
    "\n",
    "        videoWriter.write(img)\n",
    "\n",
    "        cv2.imshow(\"new video\", img)\n",
    "        cv2.waitKey(int(1000 / int(fps)))\n",
    "\n",
    "        success, frame = video.read()\n",
    "        index += 1\n",
    "        if success:\n",
    "            img = frame[depth:, lb:rb].copy()\n",
    "            frame = frame[depth:, lb:rb, 0]\n",
    "\n",
    "    video.release()\n",
    "    videoWriter.release()\n",
    "    cv2.destroyAllWindows()\n",
    "    "
   ]
  },
  {
   "cell_type": "code",
   "execution_count": 2,
   "metadata": {},
   "outputs": [],
   "source": [
    "make(\"010_RI_full.mp4\")"
   ]
  },
  {
   "cell_type": "code",
   "execution_count": null,
   "metadata": {},
   "outputs": [],
   "source": []
  }
 ],
 "metadata": {
  "kernelspec": {
   "display_name": "Python 3",
   "language": "python",
   "name": "python3"
  },
  "language_info": {
   "codemirror_mode": {
    "name": "ipython",
    "version": 3
   },
   "file_extension": ".py",
   "mimetype": "text/x-python",
   "name": "python",
   "nbconvert_exporter": "python",
   "pygments_lexer": "ipython3",
   "version": "3.7.3"
  }
 },
 "nbformat": 4,
 "nbformat_minor": 2
}
