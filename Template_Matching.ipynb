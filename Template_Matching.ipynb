{
 "cells": [
  {
   "cell_type": "code",
   "execution_count": 2,
   "metadata": {},
   "outputs": [],
   "source": [
    "from heapq import *\n",
    "import json\n",
    "import numpy as np\n",
    "import os\n",
    "import time\n",
    "import cv2\n",
    "import cv2\n",
    "import numpy as np\n",
    "from matplotlib import pyplot as plt"
   ]
  },
  {
   "cell_type": "code",
   "execution_count": 19,
   "metadata": {},
   "outputs": [],
   "source": [
    " ## load templates\n",
    "    \n",
    "templates = []\n",
    "temp_path = r'C:\\Users\\Luka\\Desktop\\Template\\LAS\\line'\n",
    "for filename in os.listdir(temp_path):\n",
    "    org = cv2.imread(temp_path+\"/\"+filename,0)\n",
    "    templates.append(org)\n",
    "    for i in [0.8,0.9,1.1,1.2]:\n",
    "        templates.append(cv2.resize(org,None,fx=i,fy=i))\n",
    "h,w = [template.shape[0] for template in templates], [template.shape[1] for template in templates]"
   ]
  },
  {
   "cell_type": "code",
   "execution_count": 8,
   "metadata": {},
   "outputs": [],
   "source": [
    "def get_imgs(org,thr):\n",
    "    \n",
    "    img_list=[]\n",
    "    res_list=[]\n",
    "\n",
    "    methods = ['']\n",
    "\n",
    "    for meth in methods:\n",
    "        method = eval(meth)\n",
    "        img = org.copy()\n",
    "        VL=[]\n",
    "        for i in range(len(templates)):\n",
    "            res = cv2.matchTemplate(img, templates[i], cv2.TM_CCOEFF_NORMED)\n",
    "            min_val, max_val, min_loc, max_loc = cv2.minMaxLoc(res)\n",
    "            if max_loc[1] < org.shape[0]*0.2:\n",
    "                VL.append([max_val,max_loc,i])\n",
    "        VL.sort(key=lambda x:-x[0])\n",
    "\n",
    "        for i in range(3):\n",
    "            if VL[i][0]>thr:\n",
    "                top_left = VL[i][1]\n",
    "                bottom_right = (top_left[0] + w[VL[i][2]], top_left[1] + h[VL[i][2]])\n",
    "                cv2.rectangle(img, top_left, bottom_right, 255, 1)\n",
    "                cv2.putText(img,\"template\"+str(VL[i][2]+1),(top_left[0],top_left[1]), cv2.FONT_HERSHEY_SIMPLEX, 1, 255, 1)\n",
    "\n",
    "        img_list.append(img)\n",
    "    return img_list\n"
   ]
  },
  {
   "cell_type": "code",
   "execution_count": null,
   "metadata": {},
   "outputs": [],
   "source": [
    "os.listdir(\"C:/Users/Luka/Desktop/RI_Sag/LAS\")"
   ]
  },
  {
   "cell_type": "code",
   "execution_count": null,
   "metadata": {},
   "outputs": [],
   "source": [
    "path = \"C:/Users/Luka/Desktop/RI_Sag/LAS\"\n",
    "filelist = os.listdir(path)\n",
    "for thr in [0.6,0.9]:\n",
    "    for file in filelist:\n",
    "        if file[-6:]==\"RI.mp4\":\n",
    "            filepath = path+\"/\"+file\n",
    "            make(filepath,thr)"
   ]
  },
  {
   "cell_type": "code",
   "execution_count": null,
   "metadata": {},
   "outputs": [],
   "source": [
    "coe = round(np.mean(np.multiply((img1-np.mean(img1)),(img2-np.mean(img2))))/(np.std(img1)*np.std(img2)),3)"
   ]
  },
  {
   "cell_type": "code",
   "execution_count": null,
   "metadata": {},
   "outputs": [],
   "source": [
    "template = cv2.imread(r'C:\\Users\\Luka\\Desktop\\Template\\1.png',0)\n",
    "w, h = template.shape[::-1]"
   ]
  },
  {
   "cell_type": "code",
   "execution_count": null,
   "metadata": {},
   "outputs": [],
   "source": [
    "print(w,h)"
   ]
  },
  {
   "cell_type": "code",
   "execution_count": null,
   "metadata": {},
   "outputs": [],
   "source": [
    "template.shape"
   ]
  },
  {
   "cell_type": "code",
   "execution_count": null,
   "metadata": {},
   "outputs": [],
   "source": [
    "img = cv2.resize(cv2.imread(\"face.jpg\"),(540,360))\n",
    "top_left=(20,20)\n",
    "bottom_right=(50,50)\n",
    "img = cv2.rectangle(img, top_left, bottom_right, (0,0,255), 5)\n",
    "cv2.imshow(\"w\",img)\n",
    "cv2.waitKey(0)"
   ]
  },
  {
   "cell_type": "code",
   "execution_count": null,
   "metadata": {},
   "outputs": [],
   "source": [
    "img.shape"
   ]
  },
  {
   "cell_type": "code",
   "execution_count": null,
   "metadata": {},
   "outputs": [],
   "source": [
    "img = cv2.resize(cv2.imread(\"face.jpg\"),(960,360))\n",
    "top_left=(20,20)\n",
    "bottom_right=(50,50)\n",
    "img = cv2.rectangle(img, top_left, bottom_right, (0,0,255), 5)\n",
    "cv2.imshow(\"w\",img)\n",
    "cv2.waitKey(0)"
   ]
  },
  {
   "cell_type": "code",
   "execution_count": null,
   "metadata": {},
   "outputs": [],
   "source": [
    "img.shape"
   ]
  },
  {
   "cell_type": "code",
   "execution_count": 16,
   "metadata": {},
   "outputs": [],
   "source": [
    "def get_imgs(org,thr): \n",
    "    res_list=[]\n",
    "    \n",
    "    methods = ['cv2.TM_CCOEFF_NORMED']\n",
    "\n",
    "    for meth in methods:\n",
    "        method = eval(meth)\n",
    "        img = org.copy()\n",
    "        VL=[]\n",
    "        for i in range(len(templates)):\n",
    "            \n",
    "            res = cv2.matchTemplate(img, templates[i], method)\n",
    "            min_val, max_val, min_loc, max_loc = cv2.minMaxLoc(res)\n",
    "            VL.append([max_val,max_loc,i])\n",
    "        VL.sort(key=lambda x:-x[0])\n",
    "\n",
    "        for i in range(3):\n",
    "            if VL[i][0]>thr:\n",
    "                top_left = VL[i][1]\n",
    "                bottom_right = (top_left[0] + w[VL[i][2]], top_left[1] + h[VL[i][2]])\n",
    "                cv2.rectangle(img, top_left, bottom_right, 255, 1)\n",
    "                cv2.putText(img,\"template\"+str(VL[i][2]+1)+\"Value=\"+str(VL[i][0])[:4],(top_left[0],top_left[1]), cv2.FONT_HERSHEY_SIMPLEX, 1, 255, 1)\n",
    "\n",
    "    return img\n"
   ]
  },
  {
   "cell_type": "code",
   "execution_count": null,
   "metadata": {},
   "outputs": [],
   "source": [
    "print(\"\\n Value=\")"
   ]
  },
  {
   "cell_type": "code",
   "execution_count": null,
   "metadata": {},
   "outputs": [],
   "source": [
    "str(\"0.9855\")[:3]"
   ]
  },
  {
   "cell_type": "code",
   "execution_count": 17,
   "metadata": {},
   "outputs": [],
   "source": [
    "\n",
    "import json\n",
    "import numpy as np\n",
    "import os\n",
    "import time\n",
    "import cv2\n",
    "\n",
    "\n",
    "def make(file,thr=None):\n",
    "\n",
    "    video = cv2.VideoCapture(file)\n",
    "    size = (int(video.get(cv2.CAP_PROP_FRAME_WIDTH)), int(video.get(cv2.CAP_PROP_FRAME_HEIGHT)))\n",
    "    fps = video.get(cv2.CAP_PROP_FPS)\n",
    "    if not thr:\n",
    "        thr = 0.6\n",
    "    videoWriter1 = cv2.VideoWriter(file[:-4] + \"_NCC.mp4\", cv2.VideoWriter_fourcc(*'MP4V'), fps, size)\n",
    "\n",
    "    lb=0\n",
    "    rb=size[0]\n",
    "    depth=0\n",
    "\n",
    "    success, frame = video.read()\n",
    "    img = frame[depth:, lb:rb, 0].copy()\n",
    "    frame = frame[depth:, lb:rb]\n",
    "\n",
    "    index = 0\n",
    "    while success:\n",
    "        \n",
    "        img=get_imgs(img,thr)\n",
    "        img=cv2.cvtColor(img,cv2.COLOR_GRAY2BGR)\n",
    "                \n",
    "\n",
    "        img = cv2.resize(img,size)\n",
    "        \n",
    "        videoWriter1.write(img)\n",
    "\n",
    "        success, frame = video.read()\n",
    "        if not success:\n",
    "            break\n",
    "        img = frame[depth:, lb:rb,0].copy()\n",
    "        frame = frame[depth:, lb:rb]\n",
    "\n",
    "    video.release()\n",
    "    videoWriter1.release()\n",
    "    \n",
    "    cv2.destroyAllWindows()"
   ]
  },
  {
   "cell_type": "code",
   "execution_count": 18,
   "metadata": {},
   "outputs": [],
   "source": [
    "make(\"010_RI_full.mp4\")"
   ]
  },
  {
   "cell_type": "code",
   "execution_count": null,
   "metadata": {},
   "outputs": [],
   "source": [
    "path = \"C:/Users/Luka/Desktop/RI_Sag/LAS\"\n",
    "filelist = os.listdir(path)\n",
    "for file in filelist:\n",
    "    if file[-6:]==\"RI.mp4\":\n",
    "        filepath = path+\"/\"+file\n",
    "        make(filepath)"
   ]
  },
  {
   "cell_type": "code",
   "execution_count": null,
   "metadata": {},
   "outputs": [],
   "source": [
    "make(\"C:/Users/Luka/Desktop/RI_Sag/LAS/001_RI.mp4\")"
   ]
  },
  {
   "cell_type": "code",
   "execution_count": null,
   "metadata": {},
   "outputs": [],
   "source": [
    "cv2.destroyAllWindows()"
   ]
  },
  {
   "cell_type": "code",
   "execution_count": null,
   "metadata": {},
   "outputs": [],
   "source": [
    "cv2.imwrite(\"C:/Users/Luka/Desktop/585-hw2/template-flat-output.png\", img1)\n",
    "cv2.imwrite(\"C:/Users/Luka/Desktop/585-hw2/template-good-output.png\", img2)"
   ]
  },
  {
   "cell_type": "code",
   "execution_count": null,
   "metadata": {},
   "outputs": [],
   "source": [
    "org[:tmp1.shape[0],:tmp1.shape[1]].shape"
   ]
  },
  {
   "cell_type": "code",
   "execution_count": null,
   "metadata": {},
   "outputs": [],
   "source": [
    "cv2.imshow(\"t\",org[:tmp1.shape[0],:tmp1.shape[1]])\n",
    "cv2.waitKey(0)\n",
    "cv2.destroyAllWindows()"
   ]
  },
  {
   "cell_type": "code",
   "execution_count": null,
   "metadata": {},
   "outputs": [],
   "source": [
    "org.shape"
   ]
  },
  {
   "cell_type": "code",
   "execution_count": null,
   "metadata": {},
   "outputs": [],
   "source": [
    "tmp1.shape"
   ]
  },
  {
   "cell_type": "code",
   "execution_count": null,
   "metadata": {},
   "outputs": [],
   "source": [
    "org=cv2.imread(\"C:/Users/Luka/Desktop/585-hw2/handshape.jpg\")\n",
    "tmp1=cv2.imread(\"C:/Users/Luka/Desktop/585-hw2/template-flat.png\")\n",
    "tmp2=cv2.imread(\"C:/Users/Luka/Desktop/585-hw2/template-good.png\")"
   ]
  },
  {
   "cell_type": "code",
   "execution_count": null,
   "metadata": {},
   "outputs": [],
   "source": [
    "tmp1[:,:].shape"
   ]
  },
  {
   "cell_type": "code",
   "execution_count": null,
   "metadata": {},
   "outputs": [],
   "source": [
    "[[1,3]].index(3)"
   ]
  },
  {
   "cell_type": "code",
   "execution_count": null,
   "metadata": {},
   "outputs": [],
   "source": [
    "tmp1.dtype"
   ]
  },
  {
   "cell_type": "code",
   "execution_count": null,
   "metadata": {},
   "outputs": [],
   "source": [
    "\n",
    "p=np.array([[1,2],[4,3]])\n",
    "itemindex = np.argwhere(p == max([max(i) for i in p]))\n",
    "itemindex"
   ]
  },
  {
   "cell_type": "code",
   "execution_count": 14,
   "metadata": {},
   "outputs": [],
   "source": [
    "from heapq import *\n",
    "import json\n",
    "import numpy as np\n",
    "import os\n",
    "import time\n",
    "import cv2\n",
    "from matplotlib import pyplot as plt"
   ]
  },
  {
   "cell_type": "code",
   "execution_count": 15,
   "metadata": {},
   "outputs": [],
   "source": [
    "templates = []\n",
    "temp_path = r'C:\\Users\\Luka\\Desktop\\Template\\LAS'\n",
    "for i in range(1,10):\n",
    "    templates.append(cv2.imread(temp_path+\"/\"+temp_path[-3:]+\"_\"+str(i)+\".png\",0))"
   ]
  },
  {
   "cell_type": "code",
   "execution_count": 22,
   "metadata": {},
   "outputs": [
    {
     "data": {
      "text/plain": [
       "(129, 222)"
      ]
     },
     "execution_count": 22,
     "metadata": {},
     "output_type": "execute_result"
    }
   ],
   "source": [
    "templates[0].shape"
   ]
  },
  {
   "cell_type": "code",
   "execution_count": null,
   "metadata": {},
   "outputs": [],
   "source": [
    "p=np.array([[1,3],[2,3]])\n",
    "p[:,:]=5\n",
    "p"
   ]
  },
  {
   "cell_type": "code",
   "execution_count": 21,
   "metadata": {},
   "outputs": [],
   "source": [
    "cv2.imshow(\"q\",templates[0][:100,:200])\n",
    "cv2.waitKey(0)\n",
    "cv2.destroyAllWindows()"
   ]
  },
  {
   "cell_type": "code",
   "execution_count": 23,
   "metadata": {},
   "outputs": [],
   "source": [
    "def get_imgs(org,thr):\n",
    "    templates = []\n",
    "    temp_path = r'C:\\Users\\Luka\\Desktop\\Template\\LAS'\n",
    "    for i in range(1,10):\n",
    "        templates.append(cv2.imread(temp_path+\"/\"+temp_path[-3:]+\"_\"+str(i)+\".png\",0))\n",
    "    h,w = [template.shape[0] for template in templates], [template.shape[1] for template in templates]\n",
    "\n",
    "    for i in range(len(templates)):\n",
    "        img = org.copy()\n",
    "\n",
    "        img = cv2.cvtColor(img,cv2.COLOR_GRAY2BGR)\n",
    "        res = cv2.matchTemplate(org, templates[i], cv2.TM_CCORR_NORMED)\n",
    "        for k in range(0,len(res),50):\n",
    "            for j in range(0,len(res[k]),50):\n",
    "                if res[k][j]>=thr:\n",
    "                    img[k:k+h[i],j:j+w[i]]=[0,0,255]\n",
    "\n",
    "    return img\n"
   ]
  },
  {
   "cell_type": "code",
   "execution_count": 24,
   "metadata": {},
   "outputs": [],
   "source": [
    "\n",
    "import json\n",
    "import numpy as np\n",
    "import os\n",
    "import time\n",
    "import cv2\n",
    "\n",
    "\n",
    "def make(file,thr=None):\n",
    "\n",
    "    video = cv2.VideoCapture(file)\n",
    "    size = (int(video.get(cv2.CAP_PROP_FRAME_WIDTH)), int(video.get(cv2.CAP_PROP_FRAME_HEIGHT)))\n",
    "    fps = video.get(cv2.CAP_PROP_FPS)\n",
    "    if not thr:\n",
    "        thr = 0.6\n",
    "    videoWriter1 = cv2.VideoWriter(file[:-4] + \"_cover\"+str(thr)+\".mp4\", cv2.VideoWriter_fourcc(*'MP4V'), fps, size)\n",
    "    \n",
    "    lb=0\n",
    "    rb=size[0]\n",
    "    depth=0\n",
    "\n",
    "    success, frame = video.read()\n",
    "    img = frame[depth:, lb:rb, 0].copy()\n",
    "    frame = frame[depth:, lb:rb]\n",
    "\n",
    "    while success:\n",
    "        \n",
    "        img=get_imgs(img,thr)\n",
    "\n",
    "                \n",
    "\n",
    "        img = cv2.resize(img,size)\n",
    "#         print(frame.shape,img.shape) \n",
    "#         print(frame.dtype,img.dtype) \n",
    "        videoWriter1.write(img)\n",
    "#         videoWriter4.write(res[0])\n",
    "#         videoWriter5.write(res[1])\n",
    "#         videoWriter6.write(res[2])\n",
    "\n",
    "        success, frame = video.read()\n",
    "        if success:\n",
    "            img = frame[depth:, lb:rb,0].copy()\n",
    "            frame = frame[depth:, lb:rb]\n",
    "\n",
    "    video.release()\n",
    "    videoWriter1.release()\n",
    "\n",
    "#     videoWriter4.release()\n",
    "#     videoWriter5.release()\n",
    "#     videoWriter6.release()\n",
    "    \n",
    "    cv2.destroyAllWindows()\n",
    "\n",
    "\n"
   ]
  },
  {
   "cell_type": "code",
   "execution_count": null,
   "metadata": {},
   "outputs": [],
   "source": [
    "for thr in [0.95,0.9,0.8,0.6]:\n",
    "    make('C:/Users/Luka/Desktop/RI_Sag/LAS/006_RI.mp4',thr)"
   ]
  },
  {
   "cell_type": "code",
   "execution_count": 26,
   "metadata": {},
   "outputs": [],
   "source": [
    "make('C:/Users/Luka/Desktop/RI_Sag/LAS/008_RI.mp4',0.9)"
   ]
  },
  {
   "cell_type": "code",
   "execution_count": 12,
   "metadata": {},
   "outputs": [
    {
     "ename": "NameError",
     "evalue": "name 'img' is not defined",
     "output_type": "error",
     "traceback": [
      "\u001b[1;31m---------------------------------------------------------------------------\u001b[0m",
      "\u001b[1;31mNameError\u001b[0m                                 Traceback (most recent call last)",
      "\u001b[1;32m<ipython-input-12-77a7949ba908>\u001b[0m in \u001b[0;36m<module>\u001b[1;34m\u001b[0m\n\u001b[1;32m----> 1\u001b[1;33m \u001b[0mimg\u001b[0m\u001b[1;33m\u001b[0m\u001b[1;33m\u001b[0m\u001b[0m\n\u001b[0m",
      "\u001b[1;31mNameError\u001b[0m: name 'img' is not defined"
     ]
    }
   ],
   "source": [
    "img"
   ]
  },
  {
   "cell_type": "code",
   "execution_count": null,
   "metadata": {},
   "outputs": [],
   "source": []
  }
 ],
 "metadata": {
  "kernelspec": {
   "display_name": "Python 3",
   "language": "python",
   "name": "python3"
  },
  "language_info": {
   "codemirror_mode": {
    "name": "ipython",
    "version": 3
   },
   "file_extension": ".py",
   "mimetype": "text/x-python",
   "name": "python",
   "nbconvert_exporter": "python",
   "pygments_lexer": "ipython3",
   "version": "3.7.3"
  }
 },
 "nbformat": 4,
 "nbformat_minor": 2
}
