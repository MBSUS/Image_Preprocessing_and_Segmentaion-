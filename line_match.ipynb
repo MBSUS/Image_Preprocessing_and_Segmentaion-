{
 "cells": [
  {
   "cell_type": "code",
   "execution_count": 2,
   "metadata": {},
   "outputs": [],
   "source": [
    "import cv2 \n",
    "import numpy as np\n",
    "import os"
   ]
  },
  {
   "cell_type": "code",
   "execution_count": 5,
   "metadata": {},
   "outputs": [
    {
     "data": {
      "text/plain": [
       "['001_1.png',\n",
       " '001_2.png',\n",
       " '002_1.png',\n",
       " '002_2.png',\n",
       " '003_1.png',\n",
       " '003_2.png',\n",
       " '004_1.png',\n",
       " '004_2.png',\n",
       " '005_1.png',\n",
       " '005_2.png',\n",
       " '010_1.png',\n",
       " '010_2.png']"
      ]
     },
     "execution_count": 5,
     "metadata": {},
     "output_type": "execute_result"
    }
   ],
   "source": [
    "os.listdir(r\"C:\\Users\\Luka\\Desktop\\Template\\LAS\\line\")"
   ]
  },
  {
   "cell_type": "code",
   "execution_count": 15,
   "metadata": {},
   "outputs": [],
   "source": [
    "templates = []\n",
    "temp_path = r'C:\\Users\\Luka\\Desktop\\Template\\LAS\\line'\n",
    "for filename in os.listdir(temp_path):\n",
    "    templates.append(cv2.imread(temp_path+\"/\"+filename,0))"
   ]
  },
  {
   "cell_type": "code",
   "execution_count": 17,
   "metadata": {},
   "outputs": [],
   "source": [
    "h,w = [template.shape[0] for template in templates], [template.shape[1] for template in templates]"
   ]
  },
  {
   "cell_type": "code",
   "execution_count": 7,
   "metadata": {},
   "outputs": [
    {
     "name": "stdout",
     "output_type": "stream",
     "text": [
      "[0, 0, 0]\n"
     ]
    }
   ],
   "source": [
    "a,b,c = 0,0,0\n",
    "L=[a,b,c]\n",
    "for i in L:\n",
    "    i = 1\n",
    "print(L)"
   ]
  },
  {
   "cell_type": "code",
   "execution_count": 10,
   "metadata": {},
   "outputs": [],
   "source": [
    "test =cv2.imread(\"test.png\")\n",
    "test =cv2.resize(test,(1000,500))\n",
    "cv2.imshow(\"1\",test)\n",
    "cv2.waitKey(0)\n",
    "cv2.destroyAllWindows()"
   ]
  },
  {
   "cell_type": "code",
   "execution_count": 28,
   "metadata": {},
   "outputs": [
    {
     "ename": "TypeError",
     "evalue": "'NoneType' object is not subscriptable",
     "output_type": "error",
     "traceback": [
      "\u001b[1;31m---------------------------------------------------------------------------\u001b[0m",
      "\u001b[1;31mTypeError\u001b[0m                                 Traceback (most recent call last)",
      "\u001b[1;32m<ipython-input-28-cf2bdff0a135>\u001b[0m in \u001b[0;36m<module>\u001b[1;34m\u001b[0m\n\u001b[0;32m     51\u001b[0m     \u001b[0mindex\u001b[0m \u001b[1;33m+=\u001b[0m \u001b[1;36m1\u001b[0m\u001b[1;33m\u001b[0m\u001b[1;33m\u001b[0m\u001b[0m\n\u001b[0;32m     52\u001b[0m \u001b[1;33m\u001b[0m\u001b[0m\n\u001b[1;32m---> 53\u001b[1;33m     \u001b[0mimg\u001b[0m \u001b[1;33m=\u001b[0m \u001b[0mframe\u001b[0m\u001b[1;33m[\u001b[0m\u001b[0mdepth\u001b[0m\u001b[1;33m:\u001b[0m\u001b[1;33m,\u001b[0m \u001b[0mlb\u001b[0m\u001b[1;33m:\u001b[0m\u001b[0mrb\u001b[0m\u001b[1;33m]\u001b[0m\u001b[1;33m.\u001b[0m\u001b[0mcopy\u001b[0m\u001b[1;33m(\u001b[0m\u001b[1;33m)\u001b[0m\u001b[1;33m\u001b[0m\u001b[1;33m\u001b[0m\u001b[0m\n\u001b[0m\u001b[0;32m     54\u001b[0m     \u001b[0mframe\u001b[0m \u001b[1;33m=\u001b[0m \u001b[0mframe\u001b[0m\u001b[1;33m[\u001b[0m\u001b[0mdepth\u001b[0m\u001b[1;33m:\u001b[0m\u001b[1;33m,\u001b[0m \u001b[0mlb\u001b[0m\u001b[1;33m:\u001b[0m\u001b[0mrb\u001b[0m\u001b[1;33m,\u001b[0m \u001b[1;36m0\u001b[0m\u001b[1;33m]\u001b[0m\u001b[1;33m\u001b[0m\u001b[1;33m\u001b[0m\u001b[0m\n\u001b[0;32m     55\u001b[0m \u001b[1;33m\u001b[0m\u001b[0m\n",
      "\u001b[1;31mTypeError\u001b[0m: 'NoneType' object is not subscriptable"
     ]
    }
   ],
   "source": [
    "filename = \"010_RI_full.mp4\"\n",
    "\n",
    "video = cv2.VideoCapture(filename)\n",
    "\n",
    "fps = video.get(cv2.CAP_PROP_FPS)\n",
    "size = (int(video.get(cv2.CAP_PROP_FRAME_WIDTH)), int(video.get(cv2.CAP_PROP_FRAME_HEIGHT)))\n",
    "videoWriter = cv2.VideoWriter(filename[:-4] + \"_pre.mp4\", cv2.VideoWriter_fourcc(*'MP4V'), fps, size)\n",
    "\n",
    "lb=0\n",
    "rb=size[0]\n",
    "depth=0\n",
    "\n",
    "success, frame = video.read()\n",
    "img = frame[depth:, lb:rb, 0].copy()\n",
    "frame = frame[depth:, lb:rb, 0]\n",
    "\n",
    "index = 1\n",
    "thr = 90\n",
    "num_section = 10\n",
    "len_section = np.floor((rb - lb) / num_section).astype(int)\n",
    "\n",
    "##resize templates\n",
    "for i in range(len(templates)):\n",
    "    templates[i]=cv2.resize(templates[i],(len_section,len(templates[i])))\n",
    "\n",
    "while success:\n",
    "\n",
    "    B = []\n",
    "    for i in range(num_section):\n",
    "        sub=frame[:,i*len_section:(i+1)*len_section].copy()\n",
    "        loc=get_loc(sub,0.9)\n",
    "        if loc:\n",
    "            B.append([loc[0]+len_section*i,loc[1]])\n",
    "        else:\n",
    "            B.append(None)\n",
    "\n",
    "\n",
    "    for pos in B:\n",
    "        if pos:\n",
    "            cv2.putText(img, 'o', (int(pos[0]),int(pos[1])), cv2.FONT_HERSHEY_SIMPLEX, 1, (0,255,0), 1)\n",
    "        else:\n",
    "            continue\n",
    "\n",
    "    videoWriter.write(img)\n",
    "\n",
    "    cv2.imshow(\"new video\", img)\n",
    "    if cv2.waitKey(int(1000 / int(fps)))==27:\n",
    "        break\n",
    "\n",
    "    success, frame = video.read()\n",
    "    if not success:\n",
    "        break \n",
    "    index += 1\n",
    "\n",
    "    img = frame[depth:, lb:rb].copy()\n",
    "    frame = frame[depth:, lb:rb, 0]\n",
    "\n",
    "video.release()\n",
    "videoWriter.release()\n",
    "cv2.destroyAllWindows()\n"
   ]
  },
  {
   "cell_type": "code",
   "execution_count": 29,
   "metadata": {},
   "outputs": [],
   "source": [
    "video.release()\n",
    "videoWriter.release()\n",
    "cv2.destroyAllWindows()"
   ]
  },
  {
   "cell_type": "code",
   "execution_count": 19,
   "metadata": {},
   "outputs": [],
   "source": [
    "def get_loc(org,thr=0.9):\n",
    "\n",
    "    for i in range(len(templates)):\n",
    "\n",
    "        img = org.copy()\n",
    "        img = cv2.cvtColor(img,cv2.COLOR_GRAY2BGR)\n",
    "        res = cv2.matchTemplate(org, templates[i],cv2.TM_CCORR_NORMED)\n",
    "        min_val, max_val, min_loc, max_loc = cv2.minMaxLoc(res)\n",
    "        \n",
    "\n",
    "    return max_loc if max_val > thr else None\n"
   ]
  },
  {
   "cell_type": "code",
   "execution_count": null,
   "metadata": {},
   "outputs": [],
   "source": []
  }
 ],
 "metadata": {
  "kernelspec": {
   "display_name": "Python 3",
   "language": "python",
   "name": "python3"
  },
  "language_info": {
   "codemirror_mode": {
    "name": "ipython",
    "version": 3
   },
   "file_extension": ".py",
   "mimetype": "text/x-python",
   "name": "python",
   "nbconvert_exporter": "python",
   "pygments_lexer": "ipython3",
   "version": "3.7.3"
  }
 },
 "nbformat": 4,
 "nbformat_minor": 2
}
